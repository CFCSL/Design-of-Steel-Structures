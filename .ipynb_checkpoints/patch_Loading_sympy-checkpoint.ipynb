{
 "cells": [
  {
   "cell_type": "code",
   "execution_count": 2,
   "id": "2f5832e1-fa73-4329-86d0-4b70871c2c06",
   "metadata": {
    "tags": []
   },
   "outputs": [],
   "source": [
    "import numpy as np\n",
    "from sympy import symbols, Eq, Function,UnevaluatedExpr, Mul, Rational, sqrt, Min\n",
    "from sympy import Piecewise, nan, N, And, log\n",
    "from sympy import *\n",
    "from sympy import N\n",
    "init_printing()\n",
    "import matplotlib.pyplot as plt\n",
    "from IPython.display import display, Markdown"
   ]
  },
  {
   "cell_type": "code",
   "execution_count": 2,
   "id": "f38a5562-027f-49c5-a204-de1f59087c43",
   "metadata": {},
   "outputs": [],
   "source": [
    "F_ED, t_w, h_w, b_f, f_yf, t_f, f_yw, gamma_M1, E, S_S, a, c, epsilon, f_y = symbols(\n",
    "\t'F_ED t_w h_w b_f f_yf t_f f_yw gamma_M1 E S_S a c epsilon f_y')\n",
    "\n",
    "k_F, F_cr, m_1, m_2, l_e, l_y, F_y, lambda_F, chi_F, F_Rd, eta_2=symbols('k_F  F_cr  m_1  m_2  l_e  l_y  F_y  lambda_F  chi_F  F_Rd  eta_2')\n",
    "\n",
    "def k_F_func(Type,**kwargs):\n",
    "\tkwargs = {eval(key): UnevaluatedExpr(value) for key, value in kwargs.items()}\n",
    "\tif Type == \"A\":\n",
    "\t\texpr = 6 + 2 * (h_w / a)**2\n",
    "\tif Type == \"B\":\n",
    "\t\texpr = 3.5 + 2 * (h_w / a)**2\n",
    "\tif Type == \"C\":\n",
    "\t\texpr = 6 + 2 * ((S_S + c) / h_w)**2\n",
    "\t_eq=Eq(k_F,expr)\n",
    "\t_eq=_eq.subs(kwargs)\n",
    "\treturn _eq\n",
    "\n",
    "def F_cr_func(Type, **kwargs):\n",
    "    kwargs = {eval(key): UnevaluatedExpr(value) for key, value in kwargs.items()}\n",
    "    expr=0.9*(k_F*E)*(t_w**3/h_w )\n",
    "    _eq=Eq(F_cr,expr)\n",
    "    _eq=_eq.subs(kwargs)\n",
    "    return _eq\n",
    "    \n",
    "def m_1_func(Type, **kwargs):\n",
    "    kwargs = {eval(key): UnevaluatedExpr(value) for key, value in kwargs.items()}\n",
    "    expr= f_yf*b_f/(f_yw*t_w)\n",
    "    _eq=Eq(m_1,expr)\n",
    "    _eq=_eq.subs(kwargs)\n",
    "    return _eq\n",
    "\n",
    "def m_2_func(Type, **kwargs):\n",
    "    kwargs = {eval(key): UnevaluatedExpr(value) for key, value in kwargs.items()}\n",
    "    #condlist=[lambda_F>0.5, lambda_F<=0.5]\n",
    "    #funclist=[0.02*(h_w/t_f)**2, 0]\n",
    "    #expr = Piecewise(*zip(funclist,condlist))\n",
    "    expr=0.02*(h_w/t_f)**2\n",
    "    _eq=Eq(m_2,expr)\n",
    "    _eq=_eq.subs(kwargs)\n",
    "    return _eq\n",
    "\n",
    "#l_y_func(Type, **kwargs)\n",
    "\n",
    "\n",
    "def l_e_func(Type=\"C\", **kwargs):\n",
    "    kwargs = {eval(key): UnevaluatedExpr(value) for key, value in kwargs.items()}\n",
    "    #if Type==\"C\":\n",
    "    expr=(k_F*E*t_w**2)/(2*f_yw*h_w)  \n",
    "    _eq=Eq(l_e,expr)\n",
    "    _eq=_eq.subs(kwargs)\n",
    "    return _eq\n",
    "\n",
    "\n",
    "\n",
    "\n",
    "def l_y_func(Type, **kwargs):\n",
    "    kwargs = {eval(key): UnevaluatedExpr(value) for key, value in kwargs.items()}\n",
    "    if Type==\"A\" or Type==\"B\":\n",
    "        expr=S_S+2*t_f*(1+sqrt(m_1+m_2))\n",
    "    if Type==\"C\":\n",
    "        expr1=l_e+t_f*sqrt(m_1/2+(l_e/t_f)**2+m_2)\n",
    "        expr2=l_e+t_f*sqrt(m_1+m_2)\n",
    "        expr=Min(expr1,expr2)\n",
    "    _eq=Eq(l_y,expr)\n",
    "    _eq=_eq.subs(kwargs)#.subs(l_e, l_e_expr)\n",
    "    return _eq\n",
    "\n",
    "def F_y_func(Type, **kwargs):\n",
    "    kwargs = {eval(key): UnevaluatedExpr(value) for key, value in kwargs.items()}\n",
    "    expr=f_yw*t_w*l_y\n",
    "    _eq=Eq(F_y,expr)\n",
    "    _eq=_eq.subs(kwargs)\n",
    "    return _eq\n",
    "\n",
    "def lambda_F_func(Type, **kwargs):\n",
    "    kwargs = {eval(key): UnevaluatedExpr(value) for key, value in kwargs.items()}\n",
    "    expr= sqrt(l_y*t_w*f_yw/F_cr)\n",
    "    _eq=Eq(lambda_F,expr)\n",
    "    _eq=_eq.subs(kwargs)\n",
    "    return _eq\n",
    "\n",
    "def chi_F_func(Type,**kwargs):\n",
    "    kwargs = {eval(key): UnevaluatedExpr(value) for key, value in kwargs.items()}\n",
    "    expr= 0.5/ lambda_F\n",
    "    _eq=Eq(chi_F,expr)\n",
    "    _eq=_eq.subs(kwargs)\n",
    "    return _eq\n",
    "\n",
    "def F_Rd_func(Type,**kwargs):\n",
    "    kwargs = {eval(key): UnevaluatedExpr(value) for key, value in kwargs.items()}\n",
    "    expr=chi_F*F_y/gamma_M1\n",
    "    _eq=Eq(F_Rd,expr)\n",
    "    _eq=_eq.subs(kwargs)\n",
    "    return _eq\n",
    "    \n",
    "def eta_2_func(Type,**kwargs):\n",
    "    kwargs = {eval(key): UnevaluatedExpr(value) for key, value in kwargs.items()}\n",
    "    expr= F_ED/F_Rd\n",
    "    _eq=Eq(eta_2,expr)\n",
    "    _eq=_eq.subs(kwargs)\n",
    "    return _eq\n"
   ]
  },
  {
   "cell_type": "code",
   "execution_count": null,
   "id": "1c18e288-1207-4b4c-ac23-576e19adbd80",
   "metadata": {
    "tags": []
   },
   "outputs": [],
   "source": [
    "\n"
   ]
  },
  {
   "cell_type": "code",
   "execution_count": 3,
   "id": "bc7563f3-209b-4085-ad84-d570b2a91808",
   "metadata": {},
   "outputs": [],
   "source": [
    "# Input parameters\n",
    "F_ED_val = 1415  # OK\n",
    "t_w_val = 15e-3  # OK\n",
    "h_w_val = 270e-3  # OK\n",
    "b_f_val = 300e-3  # OK\n",
    "f_yf_val = 355e3  # OK\n",
    "t_f_val = 30e-3  # OK\n",
    "f_yw_val = 355e3  # OK\n",
    "gamma_M1_val = 1.1  # OK\n",
    "E_val = 200e6  # OK\n",
    "S_S_val = 300e-3  # OK\n",
    "a_val = 1185e-3  # OK\n",
    "c_val = 0.9\n",
    "db={'F_ED':F_ED_val, 't_w': t_w_val, 'h_w': h_w_val, 'b_f':b_f_val,\n",
    "\t\"f_yf\": f_yf_val, \"t_f\":t_f_val, \"f_yw\":f_yw_val, \"gamma_M1\": gamma_M1_val,\n",
    "\t\"E\":E_val, \"S_S\":S_S_val, \"a\":a_val, \"c\":c_val}\n",
    "Types=[\"A\",\"B\",\"C\"]\n"
   ]
  },
  {
   "cell_type": "code",
   "execution_count": 4,
   "id": "f2091d32-215b-4f72-9ec8-97eadd471410",
   "metadata": {},
   "outputs": [],
   "source": [
    "\n",
    "Type= \"A\""
   ]
  },
  {
   "cell_type": "code",
   "execution_count": 5,
   "id": "87a257f5-f2c0-41ea-8da4-5fac4e70785e",
   "metadata": {
    "tags": []
   },
   "outputs": [
    {
     "data": {
      "image/png": "[encoded data removed]",
      "text/latex": [
       "$\\displaystyle k_{F} = 6 + \\frac{2 h_{w}^{2}}{a^{2}}$"
      ],
      "text/plain": [
       "               2\n",
       "          2⋅h_w \n",
       "k_F = 6 + ──────\n",
       "             2  \n",
       "            a   "
      ]
     },
     "metadata": {},
     "output_type": "display_data"
    },
    {
     "data": {
      "image/png": "[encoded data removed]",
      "text/latex": [
       "$\\displaystyle k_{F} = 6 + 2 \\cdot 0.27^{2} \\cdot 1.185^{-2}$"
      ],
      "text/plain": [
       "                2      -2\n",
       "k_F = 6 + 2⋅0.27 ⋅1.185  "
      ]
     },
     "metadata": {},
     "output_type": "display_data"
    },
    {
     "data": {
      "image/png": "[encoded data removed]",
      "text/latex": [
       "$\\displaystyle k_{F} = 6.1$"
      ],
      "text/plain": [
       "k_F = 6.1"
      ]
     },
     "metadata": {},
     "output_type": "display_data"
    },
    {
     "data": {
      "image/png": "[encoded data removed]",
      "text/latex": [
       "$\\displaystyle F_{cr} = \\frac{0.9 E k_{F} t_{w}^{3}}{h_{w}}$"
      ],
      "text/plain": [
       "                    3\n",
       "       0.9⋅E⋅k_F⋅t_w \n",
       "F_cr = ──────────────\n",
       "            h_w      "
      ]
     },
     "metadata": {},
     "output_type": "display_data"
    },
    {
     "data": {
      "image/png": "[encoded data removed]",
      "text/latex": [
       "$\\displaystyle F_{cr} = 0.9 \\cdot 0.015^{3} \\cdot 6.1 \\cdot 0.27^{-1} \\cdot 200000000.0$"
      ],
      "text/plain": [
       "                3         -1            \n",
       "F_cr = 0.9⋅0.015 ⋅6.1⋅0.27  ⋅200000000.0"
      ]
     },
     "metadata": {},
     "output_type": "display_data"
    },
    {
     "data": {
      "image/png": "[encoded data removed]",
      "text/latex": [
       "$\\displaystyle F_{cr} = 1.37 \\cdot 10^{4}$"
      ],
      "text/plain": [
       "F_cr = 1.37e+4"
      ]
     },
     "metadata": {},
     "output_type": "display_data"
    },
    {
     "data": {
      "image/png": "[encoded data removed]",
      "text/latex": [
       "$\\displaystyle m_{1} = \\frac{b_{f} f_{yf}}{f_{yw} t_{w}}$"
      ],
      "text/plain": [
       "     b_f⋅f_yf\n",
       "m₁ = ────────\n",
       "     f_yw⋅t_w"
      ]
     },
     "metadata": {},
     "output_type": "display_data"
    },
    {
     "data": {
      "image/png": "[encoded data removed]",
      "text/latex": [
       "$\\displaystyle m_{1} = 0.015^{-1} \\cdot 0.3$"
      ],
      "text/plain": [
       "          -1    \n",
       "m₁ = 0.015  ⋅0.3"
      ]
     },
     "metadata": {},
     "output_type": "display_data"
    },
    {
     "data": {
      "image/png": "[encoded data removed]",
      "text/latex": [
       "$\\displaystyle m_{1} = 20.0$"
      ],
      "text/plain": [
       "m₁ = 20.0"
      ]
     },
     "metadata": {},
     "output_type": "display_data"
    },
    {
     "data": {
      "image/png": "[encoded data removed]",
      "text/latex": [
       "$\\displaystyle m_{2} = \\frac{0.02 h_{w}^{2}}{t_{f}^{2}}$"
      ],
      "text/plain": [
       "             2\n",
       "     0.02⋅h_w \n",
       "m₂ = ─────────\n",
       "           2  \n",
       "        t_f   "
      ]
     },
     "metadata": {},
     "output_type": "display_data"
    },
    {
     "data": {
      "image/png": "[encoded data removed]",
      "text/latex": [
       "$\\displaystyle m_{2} = 0.02 \\cdot 0.03^{-2} \\cdot 0.27^{2}$"
      ],
      "text/plain": [
       "              -2     2\n",
       "m₂ = 0.02⋅0.03  ⋅0.27 "
      ]
     },
     "metadata": {},
     "output_type": "display_data"
    },
    {
     "data": {
      "image/png": "[encoded data removed]",
      "text/latex": [
       "$\\displaystyle m_{2} = 1.62$"
      ],
      "text/plain": [
       "m₂ = 1.62"
      ]
     },
     "metadata": {},
     "output_type": "display_data"
    },
    {
     "data": {
      "image/png": "[encoded data removed]",
      "text/latex": [
       "$\\displaystyle l_{y} = S_{S} + 2 t_{f} \\left(\\sqrt{m_{1} + m_{2}} + 1\\right)$"
      ],
      "text/plain": [
       "                  ⎛  _________    ⎞\n",
       "l_y = S_S + 2⋅t_f⋅⎝╲╱ m₁ + m₂  + 1⎠"
      ]
     },
     "metadata": {},
     "output_type": "display_data"
    },
    {
     "data": {
      "image/png": "[encoded data removed]",
      "text/latex": [
       "$\\displaystyle l_{y} = 2 \\cdot 0.03 \\cdot \\left(1 + \\sqrt{1.62 + 20.0}\\right) + 0.3$"
      ],
      "text/plain": [
       "             ⎛                 1/2⎞      \n",
       "l_y = 2⋅0.03⋅⎝1 + (1.62 + 20.0)   ⎠ + 0.3"
      ]
     },
     "metadata": {},
     "output_type": "display_data"
    },
    {
     "data": {
      "image/png": "[encoded data removed]",
      "text/latex": [
       "$\\displaystyle l_{y} = 0.639$"
      ],
      "text/plain": [
       "l_y = 0.639"
      ]
     },
     "metadata": {},
     "output_type": "display_data"
    },
    {
     "data": {
      "image/png": "[encoded data removed]",
      "text/latex": [
       "$\\displaystyle F_{y} = f_{yw} l_{y} t_{w}$"
      ],
      "text/plain": [
       "F_y = f_yw⋅l_y⋅t_w"
      ]
     },
     "metadata": {},
     "output_type": "display_data"
    },
    {
     "data": {
      "image/png": "[encoded data removed]",
      "text/latex": [
       "$\\displaystyle F_{y} = 0.015 \\cdot 0.639 \\cdot 355000.0$"
      ],
      "text/plain": [
       "F_y = 0.015⋅0.639⋅355000.0"
      ]
     },
     "metadata": {},
     "output_type": "display_data"
    },
    {
     "data": {
      "image/png": "[encoded data removed]",
      "text/latex": [
       "$\\displaystyle F_{y} = 3.4 \\cdot 10^{3}$"
      ],
      "text/plain": [
       "F_y = 3.4e+3"
      ]
     },
     "metadata": {},
     "output_type": "display_data"
    },
    {
     "data": {
      "image/png": "[encoded data removed]",
      "text/latex": [
       "$\\displaystyle \\lambda_{F} = \\sqrt{\\frac{f_{yw} l_{y} t_{w}}{F_{cr}}}$"
      ],
      "text/plain": [
       "          ______________\n",
       "         ╱ f_yw⋅l_y⋅t_w \n",
       "λ_F =   ╱  ──────────── \n",
       "      ╲╱       F_cr     "
      ]
     },
     "metadata": {},
     "output_type": "display_data"
    },
    {
     "data": {
      "text/latex": [
       "$\\displaystyle \\lambda_{F} = \\sqrt{0.015 \\cdot 0.639 \\cdot 355000.0 \\cdot 1.37 \\cdot 10^{4}^{-1}}$"
      ],
      "text/plain": [
       "                                      1/2\n",
       "      ⎛                            -1⎞   \n",
       "λ_F = ⎝0.015⋅0.639⋅355000.0⋅1.37e+4  ⎠   "
      ]
     },
     "metadata": {},
     "output_type": "display_data"
    },
    {
     "data": {
      "image/png": "[encoded data removed]",
      "text/latex": [
       "$\\displaystyle \\lambda_{F} = 0.498$"
      ],
      "text/plain": [
       "λ_F = 0.498"
      ]
     },
     "metadata": {},
     "output_type": "display_data"
    },
    {
     "data": {
      "image/png": "[encoded data removed]",
      "text/latex": [
       "$\\displaystyle m_{2} = 0$"
      ],
      "text/plain": [
       "m₂ = 0"
      ]
     },
     "metadata": {},
     "output_type": "display_data"
    },
    {
     "data": {
      "image/png": "[encoded data removed]",
      "text/latex": [
       "$\\displaystyle l_{y} = S_{S} + 2 t_{f} \\left(\\sqrt{m_{1} + m_{2}} + 1\\right)$"
      ],
      "text/plain": [
       "                  ⎛  _________    ⎞\n",
       "l_y = S_S + 2⋅t_f⋅⎝╲╱ m₁ + m₂  + 1⎠"
      ]
     },
     "metadata": {},
     "output_type": "display_data"
    },
    {
     "data": {
      "image/png": "[encoded data removed]",
      "text/latex": [
       "$\\displaystyle l_{y} = 2 \\cdot 0.03 \\cdot \\left(1 + \\sqrt{0 + 20.0}\\right) + 0.3$"
      ],
      "text/plain": [
       "             ⎛              1/2⎞      \n",
       "l_y = 2⋅0.03⋅⎝1 + (0 + 20.0)   ⎠ + 0.3"
      ]
     },
     "metadata": {},
     "output_type": "display_data"
    },
    {
     "data": {
      "image/png": "[encoded data removed]",
      "text/latex": [
       "$\\displaystyle l_{y} = 0.628$"
      ],
      "text/plain": [
       "l_y = 0.628"
      ]
     },
     "metadata": {},
     "output_type": "display_data"
    },
    {
     "data": {
      "image/png": "[encoded data removed]",
      "text/latex": [
       "$\\displaystyle F_{y} = f_{yw} l_{y} t_{w}$"
      ],
      "text/plain": [
       "F_y = f_yw⋅l_y⋅t_w"
      ]
     },
     "metadata": {},
     "output_type": "display_data"
    },
    {
     "data": {
      "image/png": "[encoded data removed]",
      "text/latex": [
       "$\\displaystyle F_{y} = 3.35 \\cdot 10^{3}$"
      ],
      "text/plain": [
       "F_y = 3.35e+3"
      ]
     },
     "metadata": {},
     "output_type": "display_data"
    },
    {
     "data": {
      "image/png": "[encoded data removed]",
      "text/latex": [
       "$\\displaystyle \\lambda_{F} = \\sqrt{\\frac{f_{yw} l_{y} t_{w}}{F_{cr}}}$"
      ],
      "text/plain": [
       "          ______________\n",
       "         ╱ f_yw⋅l_y⋅t_w \n",
       "λ_F =   ╱  ──────────── \n",
       "      ╲╱       F_cr     "
      ]
     },
     "metadata": {},
     "output_type": "display_data"
    },
    {
     "data": {
      "image/png": "[encoded data removed]",
      "text/latex": [
       "$\\displaystyle \\lambda_{F} = 0.494$"
      ],
      "text/plain": [
       "λ_F = 0.494"
      ]
     },
     "metadata": {},
     "output_type": "display_data"
    },
    {
     "data": {
      "image/png": "[encoded data removed]",
      "text/latex": [
       "$\\displaystyle \\chi_{F} = \\frac{0.5}{\\lambda_{F}}$"
      ],
      "text/plain": [
       "      0.5\n",
       "χ_F = ───\n",
       "      λ_F"
      ]
     },
     "metadata": {},
     "output_type": "display_data"
    },
    {
     "data": {
      "image/png": "[encoded data removed]",
      "text/latex": [
       "$\\displaystyle \\chi_{F} = 0.5 \\cdot 0.494^{-1}$"
      ],
      "text/plain": [
       "               -1\n",
       "χ_F = 0.5⋅0.494  "
      ]
     },
     "metadata": {},
     "output_type": "display_data"
    },
    {
     "data": {
      "image/png": "[encoded data removed]",
      "text/latex": [
       "$\\displaystyle \\chi_{F} = 1.01$"
      ],
      "text/plain": [
       "χ_F = 1.01"
      ]
     },
     "metadata": {},
     "output_type": "display_data"
    },
    {
     "data": {
      "text/markdown": [
       "$\\chi_F \\leq 1$"
      ],
      "text/plain": [
       "<IPython.core.display.Markdown object>"
      ]
     },
     "metadata": {},
     "output_type": "display_data"
    },
    {
     "data": {
      "image/png": "[encoded data removed]",
      "text/latex": [
       "$\\displaystyle F_{Rd} = \\frac{F_{y} \\chi_{F}}{\\gamma_{M1}}$"
      ],
      "text/plain": [
       "       F_y⋅χ_F\n",
       "F_Rd = ───────\n",
       "         γ_M1 "
      ]
     },
     "metadata": {},
     "output_type": "display_data"
    },
    {
     "data": {
      "image/png": "[encoded data removed]",
      "text/latex": [
       "$\\displaystyle F_{Rd} = 1.1^{-1} \\cdot 1.01 \\cdot 3.35 \\cdot 10^{3}$"
      ],
      "text/plain": [
       "          -1             \n",
       "F_Rd = 1.1  ⋅1.01⋅3.35e+3"
      ]
     },
     "metadata": {},
     "output_type": "display_data"
    },
    {
     "data": {
      "image/png": "[encoded data removed]",
      "text/latex": [
       "$\\displaystyle F_{Rd} = 3.08 \\cdot 10^{3}$"
      ],
      "text/plain": [
       "F_Rd = 3.08e+3"
      ]
     },
     "metadata": {},
     "output_type": "display_data"
    },
    {
     "data": {
      "image/png": "[encoded data removed]",
      "text/latex": [
       "$\\displaystyle \\eta_{2} = \\frac{F_{ED}}{F_{Rd}}$"
      ],
      "text/plain": [
       "     F_ED\n",
       "η₂ = ────\n",
       "     F_Rd"
      ]
     },
     "metadata": {},
     "output_type": "display_data"
    },
    {
     "data": {
      "text/latex": [
       "$\\displaystyle \\eta_{2} = 3.08 \\cdot 10^{3}^{-1} \\cdot 1415$"
      ],
      "text/plain": [
       "            -1     \n",
       "η₂ = 3.08e+3  ⋅1415"
      ]
     },
     "metadata": {},
     "output_type": "display_data"
    },
    {
     "data": {
      "image/png": "[encoded data removed]",
      "text/latex": [
       "$\\displaystyle \\eta_{2} = 0.459$"
      ],
      "text/plain": [
       "η₂ = 0.459"
      ]
     },
     "metadata": {},
     "output_type": "display_data"
    }
   ],
   "source": [
    "if db['S_S'] < db['a']:\n",
    "    #k_F\n",
    "\n",
    "    display(k_F_func(Type))\n",
    "    display(k_F_func(Type,**db))\n",
    "    k_F_val=N(k_F_func(Type,**db).doit(),3)\n",
    "    display(k_F_val)\n",
    "    db['k_F']=k_F_val.rhs\n",
    "    \n",
    "    #F_cr\n",
    "    display(F_cr_func(Type))\n",
    "    display(F_cr_func(Type,**db))\n",
    "    F_cr_val=N(F_cr_func(Type,**db).doit(),3)\n",
    "    display(F_cr_val)\n",
    "    db['F_cr']=F_cr_val.rhs\n",
    "    if db['F_cr'] < db['F_ED']:\n",
    "        print('FIN! La estructura no cumple frente a patch loading')\n",
    "    else:\n",
    "        display(m_1_func(Type))\n",
    "        display(m_1_func(Type,**db))\n",
    "        m_1_val=N(m_1_func(Type,**db).doit(),3)\n",
    "        display(m_1_val)\n",
    "        db['m_1']=m_1_val.rhs\n",
    "        \n",
    "        display(m_2_func(Type))\n",
    "        display(m_2_func(Type,**db))\n",
    "        m_2_val=N(m_2_func(Type,**db).doit(),3)\n",
    "        display(m_2_val)\n",
    "        db['m_2']=m_2_val.rhs\n",
    "        \n",
    "        if Type==\"C\":\n",
    "            display(l_e_func(Type))\n",
    "            display(l_e_func(Type,**db))\n",
    "            l_e_val=N(l_e_func(Type,**db).doit(),3)\n",
    "            display(l_e_val)\n",
    "            db['l_e']=l_e_val.rhs\n",
    "\n",
    "        display(l_y_func(Type))\n",
    "        display(l_y_func(Type,**db))\n",
    "        l_y_val=N(l_y_func(Type,**db).doit(),3)\n",
    "        display(l_y_val)\n",
    "        db['l_y']=l_y_val.rhs\n",
    "\n",
    "        display(F_y_func(Type))\n",
    "        display(F_y_func(Type,**db))\n",
    "        F_y_val=N(F_y_func(Type,**db).doit(),3)\n",
    "        display(F_y_val)\n",
    "        db['F_y']=F_y_val.rhs\n",
    "        if db['F_y'] < db['F_ED']:\n",
    "            print('FIN! La estructura no cumple frente a patch loading')\n",
    "\n",
    "        display(lambda_F_func(Type))\n",
    "        display(lambda_F_func(Type,**db))\n",
    "        lambda_F_val=N(lambda_F_func(Type,**db).doit(),3)\n",
    "        display(lambda_F_val)\n",
    "        db['lambda_F']=lambda_F_val.rhs\n",
    "        \n",
    "        if db['lambda_F']<=0.5:\n",
    "            del db['m_2']\n",
    "            if 'l_e' in db.keys():\n",
    "                del db['l_e']\n",
    "            del db['l_y']\n",
    "            del db['F_y']\n",
    "            del db['lambda_F']\n",
    "            display(Eq(m_2,0))\n",
    "            db['m_2']=0\n",
    "            if Type==\"C\":\n",
    "                display(l_e_func(Type))\n",
    "                display(l_e_func(Type,**db))\n",
    "                l_e_val=N(l_e_func(Type,**db).doit(),3)\n",
    "                display(l_e_val)\n",
    "                db['l_e']=l_e_val.rhs\n",
    "\n",
    "            display(l_y_func(Type))\n",
    "            display(l_y_func(Type,**db))\n",
    "            l_y_val=N(l_y_func(Type,**db).doit(),3)\n",
    "            display(l_y_val)\n",
    "            db['l_y']=l_y_val.rhs\n",
    "\n",
    "            display(F_y_func(Type))\n",
    "            #display(F_y_func(Type,**db))\n",
    "            F_y_val=N(F_y_func(Type,**db).doit(),3)\n",
    "            display(F_y_val)\n",
    "            db['F_y']=F_y_val.rhs\n",
    "            if db['F_y'] < db['F_ED']:\n",
    "                print('FIN! La estructura no cumple frente a patch loading')\n",
    "\n",
    "            display(lambda_F_func(Type))\n",
    "           #display(lambda_F_func(Type,**db))\n",
    "            lambda_F_val=N(lambda_F_func(Type,**db).doit(),3)\n",
    "            display(lambda_F_val)\n",
    "            db['lambda_F']=lambda_F_val.rhs\n",
    "        \n",
    "        \n",
    "        display(chi_F_func(Type))\n",
    "        display(chi_F_func(Type,**db))\n",
    "        chi_F_val=N(chi_F_func(Type,**db).doit(),3)\n",
    "        display(chi_F_val)\n",
    "        if chi_F_val.rhs > 1:\n",
    "            display(Markdown(r\"$\\chi_F \\leq 1$\"))\n",
    "            db['chi_F'] = 1\n",
    "        db['chi_F']=chi_F_val.rhs\n",
    "        \n",
    "        \n",
    "        display(F_Rd_func(Type))\n",
    "        display(F_Rd_func(Type,**db))\n",
    "        F_Rd_val=N(F_Rd_func(Type,**db).doit(),3)\n",
    "        display(F_Rd_val)\n",
    "        db['F_Rd']=F_Rd_val.rhs\n",
    "        \n",
    "        \n",
    "        if db['F_Rd']<db['F_ED']:\n",
    "            print('FIN! La estructura no cumple frente a patch loading')\n",
    "            \n",
    "      \n",
    "        display(eta_2_func(Type))\n",
    "        display(eta_2_func(Type,**db))\n",
    "        eta_2_val=N(eta_2_func(Type,**db).doit(),3)\n",
    "        display(eta_2_val)\n",
    "        db['eta_2']=eta_2_val.rhs\n",
    "    else:\n",
    "         print('FIN! La estructura no cumple frente a patch loading')\n",
    "    \n",
    "    "
   ]
  },
  {
   "cell_type": "code",
   "execution_count": null,
   "id": "727a212d-1add-4e52-a00b-a6147c0401e5",
   "metadata": {
    "tags": []
   },
   "outputs": [],
   "source": []
  },
  {
   "cell_type": "code",
   "execution_count": 10,
   "id": "a30976c1-5d51-4862-824b-69883b3a35a7",
   "metadata": {
    "tags": []
   },
   "outputs": [],
   "source": [
    "\n",
    "L, x,y =symbols('L x y')\n",
    "\n",
    "\n",
    "\n",
    "def L_func( **kwargs):\n",
    "    kwargs = {eval(key): UnevaluatedExpr(value) for key, value in kwargs.items()}\n",
    "    expr1=x+y+1\n",
    "    expr2=5*x*y\n",
    "    expr=Min(expr1,expr2)\n",
    "    _eq=Eq(L,expr)\n",
    "    _eq=_eq.subs(kwargs)#.subs(l_e, l_e_expr)\n",
    "    return _eq\n",
    "\n",
    "data= {\"x\":2,\"y\":3}\n",
    "\n",
    "\n"
   ]
  },
  {
   "cell_type": "code",
   "execution_count": 11,
   "id": "89f44565-4507-4ba1-8c00-ef7c26378f15",
   "metadata": {},
   "outputs": [
    {
     "data": {
      "image/png": "[encoded data removed]",
      "text/latex": [
       "$\\displaystyle L = \\min\\left(5 x y, x + y + 1\\right)$"
      ],
      "text/plain": [
       "L = Min(5*x*y, x + y + 1)"
      ]
     },
     "metadata": {},
     "output_type": "display_data"
    },
    {
     "ename": "ValueError",
     "evalue": "The argument '5*3*2' is not comparable.",
     "output_type": "error",
     "traceback": [
      "\u001b[0;31m---------------------------------------------------------------------------\u001b[0m",
      "\u001b[0;31mValueError\u001b[0m                                Traceback (most recent call last)",
      "\u001b[0;32m/var/folders/cr/7sx_pjr5131byrt21svnsg0w0000gn/T/ipykernel_82642/615759237.py\u001b[0m in \u001b[0;36m<module>\u001b[0;34m\u001b[0m\n\u001b[1;32m      1\u001b[0m \u001b[0mdisplay\u001b[0m\u001b[0;34m(\u001b[0m\u001b[0mL_func\u001b[0m\u001b[0;34m(\u001b[0m\u001b[0;34m)\u001b[0m\u001b[0;34m)\u001b[0m\u001b[0;34m\u001b[0m\u001b[0;34m\u001b[0m\u001b[0m\n\u001b[0;32m----> 2\u001b[0;31m \u001b[0mdisplay\u001b[0m\u001b[0;34m(\u001b[0m\u001b[0mL_func\u001b[0m\u001b[0;34m(\u001b[0m\u001b[0;34m**\u001b[0m\u001b[0mdata\u001b[0m\u001b[0;34m)\u001b[0m\u001b[0;34m)\u001b[0m\u001b[0;34m\u001b[0m\u001b[0;34m\u001b[0m\u001b[0m\n\u001b[0m",
      "\u001b[0;32m/var/folders/cr/7sx_pjr5131byrt21svnsg0w0000gn/T/ipykernel_82642/2052618961.py\u001b[0m in \u001b[0;36mL_func\u001b[0;34m(**kwargs)\u001b[0m\n\u001b[1;32m      9\u001b[0m     \u001b[0mexpr\u001b[0m\u001b[0;34m=\u001b[0m\u001b[0mMin\u001b[0m\u001b[0;34m(\u001b[0m\u001b[0mexpr1\u001b[0m\u001b[0;34m,\u001b[0m\u001b[0mexpr2\u001b[0m\u001b[0;34m)\u001b[0m\u001b[0;34m\u001b[0m\u001b[0;34m\u001b[0m\u001b[0m\n\u001b[1;32m     10\u001b[0m     \u001b[0m_eq\u001b[0m\u001b[0;34m=\u001b[0m\u001b[0mEq\u001b[0m\u001b[0;34m(\u001b[0m\u001b[0mL\u001b[0m\u001b[0;34m,\u001b[0m\u001b[0mexpr\u001b[0m\u001b[0;34m)\u001b[0m\u001b[0;34m\u001b[0m\u001b[0;34m\u001b[0m\u001b[0m\n\u001b[0;32m---> 11\u001b[0;31m     \u001b[0m_eq\u001b[0m\u001b[0;34m=\u001b[0m\u001b[0m_eq\u001b[0m\u001b[0;34m.\u001b[0m\u001b[0msubs\u001b[0m\u001b[0;34m(\u001b[0m\u001b[0mkwargs\u001b[0m\u001b[0;34m)\u001b[0m\u001b[0;31m#.subs(l_e, l_e_expr)\u001b[0m\u001b[0;34m\u001b[0m\u001b[0;34m\u001b[0m\u001b[0m\n\u001b[0m\u001b[1;32m     12\u001b[0m     \u001b[0;32mreturn\u001b[0m \u001b[0m_eq\u001b[0m\u001b[0;34m\u001b[0m\u001b[0;34m\u001b[0m\u001b[0m\n\u001b[1;32m     13\u001b[0m \u001b[0;34m\u001b[0m\u001b[0m\n",
      "\u001b[0;32m~/opt/anaconda3/lib/python3.9/site-packages/sympy/core/basic.py\u001b[0m in \u001b[0;36msubs\u001b[0;34m(self, *args, **kwargs)\u001b[0m\n\u001b[1;32m    995\u001b[0m             \u001b[0mrv\u001b[0m \u001b[0;34m=\u001b[0m \u001b[0mself\u001b[0m\u001b[0;34m\u001b[0m\u001b[0;34m\u001b[0m\u001b[0m\n\u001b[1;32m    996\u001b[0m             \u001b[0;32mfor\u001b[0m \u001b[0mold\u001b[0m\u001b[0;34m,\u001b[0m \u001b[0mnew\u001b[0m \u001b[0;32min\u001b[0m \u001b[0msequence\u001b[0m\u001b[0;34m:\u001b[0m\u001b[0;34m\u001b[0m\u001b[0;34m\u001b[0m\u001b[0m\n\u001b[0;32m--> 997\u001b[0;31m                 \u001b[0mrv\u001b[0m \u001b[0;34m=\u001b[0m \u001b[0mrv\u001b[0m\u001b[0;34m.\u001b[0m\u001b[0m_subs\u001b[0m\u001b[0;34m(\u001b[0m\u001b[0mold\u001b[0m\u001b[0;34m,\u001b[0m \u001b[0mnew\u001b[0m\u001b[0;34m,\u001b[0m \u001b[0;34m**\u001b[0m\u001b[0mkwargs\u001b[0m\u001b[0;34m)\u001b[0m\u001b[0;34m\u001b[0m\u001b[0;34m\u001b[0m\u001b[0m\n\u001b[0m\u001b[1;32m    998\u001b[0m                 \u001b[0;32mif\u001b[0m \u001b[0;32mnot\u001b[0m \u001b[0misinstance\u001b[0m\u001b[0;34m(\u001b[0m\u001b[0mrv\u001b[0m\u001b[0;34m,\u001b[0m \u001b[0mBasic\u001b[0m\u001b[0;34m)\u001b[0m\u001b[0;34m:\u001b[0m\u001b[0;34m\u001b[0m\u001b[0;34m\u001b[0m\u001b[0m\n\u001b[1;32m    999\u001b[0m                     \u001b[0;32mbreak\u001b[0m\u001b[0;34m\u001b[0m\u001b[0;34m\u001b[0m\u001b[0m\n",
      "\u001b[0;32m~/opt/anaconda3/lib/python3.9/site-packages/sympy/core/cache.py\u001b[0m in \u001b[0;36mwrapper\u001b[0;34m(*args, **kwargs)\u001b[0m\n\u001b[1;32m     68\u001b[0m         \u001b[0;32mdef\u001b[0m \u001b[0mwrapper\u001b[0m\u001b[0;34m(\u001b[0m\u001b[0;34m*\u001b[0m\u001b[0margs\u001b[0m\u001b[0;34m,\u001b[0m \u001b[0;34m**\u001b[0m\u001b[0mkwargs\u001b[0m\u001b[0;34m)\u001b[0m\u001b[0;34m:\u001b[0m\u001b[0;34m\u001b[0m\u001b[0;34m\u001b[0m\u001b[0m\n\u001b[1;32m     69\u001b[0m             \u001b[0;32mtry\u001b[0m\u001b[0;34m:\u001b[0m\u001b[0;34m\u001b[0m\u001b[0;34m\u001b[0m\u001b[0m\n\u001b[0;32m---> 70\u001b[0;31m                 \u001b[0mretval\u001b[0m \u001b[0;34m=\u001b[0m \u001b[0mcfunc\u001b[0m\u001b[0;34m(\u001b[0m\u001b[0;34m*\u001b[0m\u001b[0margs\u001b[0m\u001b[0;34m,\u001b[0m \u001b[0;34m**\u001b[0m\u001b[0mkwargs\u001b[0m\u001b[0;34m)\u001b[0m\u001b[0;34m\u001b[0m\u001b[0;34m\u001b[0m\u001b[0m\n\u001b[0m\u001b[1;32m     71\u001b[0m             \u001b[0;32mexcept\u001b[0m \u001b[0mTypeError\u001b[0m \u001b[0;32mas\u001b[0m \u001b[0me\u001b[0m\u001b[0;34m:\u001b[0m\u001b[0;34m\u001b[0m\u001b[0;34m\u001b[0m\u001b[0m\n\u001b[1;32m     72\u001b[0m                 \u001b[0;32mif\u001b[0m \u001b[0;32mnot\u001b[0m \u001b[0me\u001b[0m\u001b[0;34m.\u001b[0m\u001b[0margs\u001b[0m \u001b[0;32mor\u001b[0m \u001b[0;32mnot\u001b[0m \u001b[0me\u001b[0m\u001b[0;34m.\u001b[0m\u001b[0margs\u001b[0m\u001b[0;34m[\u001b[0m\u001b[0;36m0\u001b[0m\u001b[0;34m]\u001b[0m\u001b[0;34m.\u001b[0m\u001b[0mstartswith\u001b[0m\u001b[0;34m(\u001b[0m\u001b[0;34m'unhashable type:'\u001b[0m\u001b[0;34m)\u001b[0m\u001b[0;34m:\u001b[0m\u001b[0;34m\u001b[0m\u001b[0;34m\u001b[0m\u001b[0m\n",
      "\u001b[0;32m~/opt/anaconda3/lib/python3.9/site-packages/sympy/core/basic.py\u001b[0m in \u001b[0;36m_subs\u001b[0;34m(self, old, new, **hints)\u001b[0m\n\u001b[1;32m   1109\u001b[0m         \u001b[0mrv\u001b[0m \u001b[0;34m=\u001b[0m \u001b[0mself\u001b[0m\u001b[0;34m.\u001b[0m\u001b[0m_eval_subs\u001b[0m\u001b[0;34m(\u001b[0m\u001b[0mold\u001b[0m\u001b[0;34m,\u001b[0m \u001b[0mnew\u001b[0m\u001b[0;34m)\u001b[0m\u001b[0;34m\u001b[0m\u001b[0;34m\u001b[0m\u001b[0m\n\u001b[1;32m   1110\u001b[0m         \u001b[0;32mif\u001b[0m \u001b[0mrv\u001b[0m \u001b[0;32mis\u001b[0m \u001b[0;32mNone\u001b[0m\u001b[0;34m:\u001b[0m\u001b[0;34m\u001b[0m\u001b[0;34m\u001b[0m\u001b[0m\n\u001b[0;32m-> 1111\u001b[0;31m             \u001b[0mrv\u001b[0m \u001b[0;34m=\u001b[0m \u001b[0mfallback\u001b[0m\u001b[0;34m(\u001b[0m\u001b[0mself\u001b[0m\u001b[0;34m,\u001b[0m \u001b[0mold\u001b[0m\u001b[0;34m,\u001b[0m \u001b[0mnew\u001b[0m\u001b[0;34m)\u001b[0m\u001b[0;34m\u001b[0m\u001b[0;34m\u001b[0m\u001b[0m\n\u001b[0m\u001b[1;32m   1112\u001b[0m         \u001b[0;32mreturn\u001b[0m \u001b[0mrv\u001b[0m\u001b[0;34m\u001b[0m\u001b[0;34m\u001b[0m\u001b[0m\n\u001b[1;32m   1113\u001b[0m \u001b[0;34m\u001b[0m\u001b[0m\n",
      "\u001b[0;32m~/opt/anaconda3/lib/python3.9/site-packages/sympy/core/basic.py\u001b[0m in \u001b[0;36mfallback\u001b[0;34m(self, old, new)\u001b[0m\n\u001b[1;32m   1081\u001b[0m                 \u001b[0;32mif\u001b[0m \u001b[0;32mnot\u001b[0m \u001b[0mhasattr\u001b[0m\u001b[0;34m(\u001b[0m\u001b[0marg\u001b[0m\u001b[0;34m,\u001b[0m \u001b[0;34m'_eval_subs'\u001b[0m\u001b[0;34m)\u001b[0m\u001b[0;34m:\u001b[0m\u001b[0;34m\u001b[0m\u001b[0;34m\u001b[0m\u001b[0m\n\u001b[1;32m   1082\u001b[0m                     \u001b[0;32mcontinue\u001b[0m\u001b[0;34m\u001b[0m\u001b[0;34m\u001b[0m\u001b[0m\n\u001b[0;32m-> 1083\u001b[0;31m                 \u001b[0marg\u001b[0m \u001b[0;34m=\u001b[0m \u001b[0marg\u001b[0m\u001b[0;34m.\u001b[0m\u001b[0m_subs\u001b[0m\u001b[0;34m(\u001b[0m\u001b[0mold\u001b[0m\u001b[0;34m,\u001b[0m \u001b[0mnew\u001b[0m\u001b[0;34m,\u001b[0m \u001b[0;34m**\u001b[0m\u001b[0mhints\u001b[0m\u001b[0;34m)\u001b[0m\u001b[0;34m\u001b[0m\u001b[0;34m\u001b[0m\u001b[0m\n\u001b[0m\u001b[1;32m   1084\u001b[0m                 \u001b[0;32mif\u001b[0m \u001b[0;32mnot\u001b[0m \u001b[0m_aresame\u001b[0m\u001b[0;34m(\u001b[0m\u001b[0marg\u001b[0m\u001b[0;34m,\u001b[0m \u001b[0margs\u001b[0m\u001b[0;34m[\u001b[0m\u001b[0mi\u001b[0m\u001b[0;34m]\u001b[0m\u001b[0;34m)\u001b[0m\u001b[0;34m:\u001b[0m\u001b[0;34m\u001b[0m\u001b[0;34m\u001b[0m\u001b[0m\n\u001b[1;32m   1085\u001b[0m                     \u001b[0mhit\u001b[0m \u001b[0;34m=\u001b[0m \u001b[0;32mTrue\u001b[0m\u001b[0;34m\u001b[0m\u001b[0;34m\u001b[0m\u001b[0m\n",
      "\u001b[0;32m~/opt/anaconda3/lib/python3.9/site-packages/sympy/core/cache.py\u001b[0m in \u001b[0;36mwrapper\u001b[0;34m(*args, **kwargs)\u001b[0m\n\u001b[1;32m     68\u001b[0m         \u001b[0;32mdef\u001b[0m \u001b[0mwrapper\u001b[0m\u001b[0;34m(\u001b[0m\u001b[0;34m*\u001b[0m\u001b[0margs\u001b[0m\u001b[0;34m,\u001b[0m \u001b[0;34m**\u001b[0m\u001b[0mkwargs\u001b[0m\u001b[0;34m)\u001b[0m\u001b[0;34m:\u001b[0m\u001b[0;34m\u001b[0m\u001b[0;34m\u001b[0m\u001b[0m\n\u001b[1;32m     69\u001b[0m             \u001b[0;32mtry\u001b[0m\u001b[0;34m:\u001b[0m\u001b[0;34m\u001b[0m\u001b[0;34m\u001b[0m\u001b[0m\n\u001b[0;32m---> 70\u001b[0;31m                 \u001b[0mretval\u001b[0m \u001b[0;34m=\u001b[0m \u001b[0mcfunc\u001b[0m\u001b[0;34m(\u001b[0m\u001b[0;34m*\u001b[0m\u001b[0margs\u001b[0m\u001b[0;34m,\u001b[0m \u001b[0;34m**\u001b[0m\u001b[0mkwargs\u001b[0m\u001b[0;34m)\u001b[0m\u001b[0;34m\u001b[0m\u001b[0;34m\u001b[0m\u001b[0m\n\u001b[0m\u001b[1;32m     71\u001b[0m             \u001b[0;32mexcept\u001b[0m \u001b[0mTypeError\u001b[0m \u001b[0;32mas\u001b[0m \u001b[0me\u001b[0m\u001b[0;34m:\u001b[0m\u001b[0;34m\u001b[0m\u001b[0;34m\u001b[0m\u001b[0m\n\u001b[1;32m     72\u001b[0m                 \u001b[0;32mif\u001b[0m \u001b[0;32mnot\u001b[0m \u001b[0me\u001b[0m\u001b[0;34m.\u001b[0m\u001b[0margs\u001b[0m \u001b[0;32mor\u001b[0m \u001b[0;32mnot\u001b[0m \u001b[0me\u001b[0m\u001b[0;34m.\u001b[0m\u001b[0margs\u001b[0m\u001b[0;34m[\u001b[0m\u001b[0;36m0\u001b[0m\u001b[0;34m]\u001b[0m\u001b[0;34m.\u001b[0m\u001b[0mstartswith\u001b[0m\u001b[0;34m(\u001b[0m\u001b[0;34m'unhashable type:'\u001b[0m\u001b[0;34m)\u001b[0m\u001b[0;34m:\u001b[0m\u001b[0;34m\u001b[0m\u001b[0;34m\u001b[0m\u001b[0m\n",
      "\u001b[0;32m~/opt/anaconda3/lib/python3.9/site-packages/sympy/core/basic.py\u001b[0m in \u001b[0;36m_subs\u001b[0;34m(self, old, new, **hints)\u001b[0m\n\u001b[1;32m   1109\u001b[0m         \u001b[0mrv\u001b[0m \u001b[0;34m=\u001b[0m \u001b[0mself\u001b[0m\u001b[0;34m.\u001b[0m\u001b[0m_eval_subs\u001b[0m\u001b[0;34m(\u001b[0m\u001b[0mold\u001b[0m\u001b[0;34m,\u001b[0m \u001b[0mnew\u001b[0m\u001b[0;34m)\u001b[0m\u001b[0;34m\u001b[0m\u001b[0;34m\u001b[0m\u001b[0m\n\u001b[1;32m   1110\u001b[0m         \u001b[0;32mif\u001b[0m \u001b[0mrv\u001b[0m \u001b[0;32mis\u001b[0m \u001b[0;32mNone\u001b[0m\u001b[0;34m:\u001b[0m\u001b[0;34m\u001b[0m\u001b[0;34m\u001b[0m\u001b[0m\n\u001b[0;32m-> 1111\u001b[0;31m             \u001b[0mrv\u001b[0m \u001b[0;34m=\u001b[0m \u001b[0mfallback\u001b[0m\u001b[0;34m(\u001b[0m\u001b[0mself\u001b[0m\u001b[0;34m,\u001b[0m \u001b[0mold\u001b[0m\u001b[0;34m,\u001b[0m \u001b[0mnew\u001b[0m\u001b[0;34m)\u001b[0m\u001b[0;34m\u001b[0m\u001b[0;34m\u001b[0m\u001b[0m\n\u001b[0m\u001b[1;32m   1112\u001b[0m         \u001b[0;32mreturn\u001b[0m \u001b[0mrv\u001b[0m\u001b[0;34m\u001b[0m\u001b[0;34m\u001b[0m\u001b[0m\n\u001b[1;32m   1113\u001b[0m \u001b[0;34m\u001b[0m\u001b[0m\n",
      "\u001b[0;32m~/opt/anaconda3/lib/python3.9/site-packages/sympy/core/basic.py\u001b[0m in \u001b[0;36mfallback\u001b[0;34m(self, old, new)\u001b[0m\n\u001b[1;32m   1086\u001b[0m                     \u001b[0margs\u001b[0m\u001b[0;34m[\u001b[0m\u001b[0mi\u001b[0m\u001b[0;34m]\u001b[0m \u001b[0;34m=\u001b[0m \u001b[0marg\u001b[0m\u001b[0;34m\u001b[0m\u001b[0;34m\u001b[0m\u001b[0m\n\u001b[1;32m   1087\u001b[0m             \u001b[0;32mif\u001b[0m \u001b[0mhit\u001b[0m\u001b[0;34m:\u001b[0m\u001b[0;34m\u001b[0m\u001b[0;34m\u001b[0m\u001b[0m\n\u001b[0;32m-> 1088\u001b[0;31m                 \u001b[0mrv\u001b[0m \u001b[0;34m=\u001b[0m \u001b[0mself\u001b[0m\u001b[0;34m.\u001b[0m\u001b[0mfunc\u001b[0m\u001b[0;34m(\u001b[0m\u001b[0;34m*\u001b[0m\u001b[0margs\u001b[0m\u001b[0;34m)\u001b[0m\u001b[0;34m\u001b[0m\u001b[0;34m\u001b[0m\u001b[0m\n\u001b[0m\u001b[1;32m   1089\u001b[0m                 \u001b[0mhack2\u001b[0m \u001b[0;34m=\u001b[0m \u001b[0mhints\u001b[0m\u001b[0;34m.\u001b[0m\u001b[0mget\u001b[0m\u001b[0;34m(\u001b[0m\u001b[0;34m'hack2'\u001b[0m\u001b[0;34m,\u001b[0m \u001b[0;32mFalse\u001b[0m\u001b[0;34m)\u001b[0m\u001b[0;34m\u001b[0m\u001b[0;34m\u001b[0m\u001b[0m\n\u001b[1;32m   1090\u001b[0m                 \u001b[0;32mif\u001b[0m \u001b[0mhack2\u001b[0m \u001b[0;32mand\u001b[0m \u001b[0mself\u001b[0m\u001b[0;34m.\u001b[0m\u001b[0mis_Mul\u001b[0m \u001b[0;32mand\u001b[0m \u001b[0;32mnot\u001b[0m \u001b[0mrv\u001b[0m\u001b[0;34m.\u001b[0m\u001b[0mis_Mul\u001b[0m\u001b[0;34m:\u001b[0m  \u001b[0;31m# 2-arg hack\u001b[0m\u001b[0;34m\u001b[0m\u001b[0;34m\u001b[0m\u001b[0m\n",
      "\u001b[0;32m~/opt/anaconda3/lib/python3.9/site-packages/sympy/functions/elementary/miscellaneous.py\u001b[0m in \u001b[0;36m__new__\u001b[0;34m(cls, *args, **assumptions)\u001b[0m\n\u001b[1;32m    388\u001b[0m         \u001b[0;32mif\u001b[0m \u001b[0mevaluate\u001b[0m\u001b[0;34m:\u001b[0m\u001b[0;34m\u001b[0m\u001b[0;34m\u001b[0m\u001b[0m\n\u001b[1;32m    389\u001b[0m             \u001b[0;32mtry\u001b[0m\u001b[0;34m:\u001b[0m\u001b[0;34m\u001b[0m\u001b[0;34m\u001b[0m\u001b[0m\n\u001b[0;32m--> 390\u001b[0;31m                 \u001b[0margs\u001b[0m \u001b[0;34m=\u001b[0m \u001b[0mfrozenset\u001b[0m\u001b[0;34m(\u001b[0m\u001b[0mcls\u001b[0m\u001b[0;34m.\u001b[0m\u001b[0m_new_args_filter\u001b[0m\u001b[0;34m(\u001b[0m\u001b[0margs\u001b[0m\u001b[0;34m)\u001b[0m\u001b[0;34m)\u001b[0m\u001b[0;34m\u001b[0m\u001b[0;34m\u001b[0m\u001b[0m\n\u001b[0m\u001b[1;32m    391\u001b[0m             \u001b[0;32mexcept\u001b[0m \u001b[0mShortCircuit\u001b[0m\u001b[0;34m:\u001b[0m\u001b[0;34m\u001b[0m\u001b[0;34m\u001b[0m\u001b[0m\n\u001b[1;32m    392\u001b[0m                 \u001b[0;32mreturn\u001b[0m \u001b[0mcls\u001b[0m\u001b[0;34m.\u001b[0m\u001b[0mzero\u001b[0m\u001b[0;34m\u001b[0m\u001b[0;34m\u001b[0m\u001b[0m\n",
      "\u001b[0;32m~/opt/anaconda3/lib/python3.9/site-packages/sympy/functions/elementary/miscellaneous.py\u001b[0m in \u001b[0;36m_new_args_filter\u001b[0;34m(cls, arg_sequence)\u001b[0m\n\u001b[1;32m    557\u001b[0m                     \u001b[0marg\u001b[0m\u001b[0;34m.\u001b[0m\u001b[0mis_number\u001b[0m \u001b[0;32mand\u001b[0m\u001b[0;34m\u001b[0m\u001b[0;34m\u001b[0m\u001b[0m\n\u001b[1;32m    558\u001b[0m                     not arg.is_comparable):\n\u001b[0;32m--> 559\u001b[0;31m                 \u001b[0;32mraise\u001b[0m \u001b[0mValueError\u001b[0m\u001b[0;34m(\u001b[0m\u001b[0;34m\"The argument '%s' is not comparable.\"\u001b[0m \u001b[0;34m%\u001b[0m \u001b[0marg\u001b[0m\u001b[0;34m)\u001b[0m\u001b[0;34m\u001b[0m\u001b[0;34m\u001b[0m\u001b[0m\n\u001b[0m\u001b[1;32m    560\u001b[0m \u001b[0;34m\u001b[0m\u001b[0m\n\u001b[1;32m    561\u001b[0m             \u001b[0;32mif\u001b[0m \u001b[0marg\u001b[0m \u001b[0;34m==\u001b[0m \u001b[0mcls\u001b[0m\u001b[0;34m.\u001b[0m\u001b[0mzero\u001b[0m\u001b[0;34m:\u001b[0m\u001b[0;34m\u001b[0m\u001b[0;34m\u001b[0m\u001b[0m\n",
      "\u001b[0;31mValueError\u001b[0m: The argument '5*3*2' is not comparable."
     ]
    }
   ],
   "source": [
    "display(L_func())\n",
    "display(L_func(**data).doit())"
   ]
  },
  {
   "cell_type": "code",
   "execution_count": null,
   "id": "a1aa353a-1d6d-4cc4-bd57-c979f789c63c",
   "metadata": {},
   "outputs": [],
   "source": []
  }
 ],
 "metadata": {
  "kernelspec": {
   "display_name": "Python 3 (ipykernel)",
   "language": "python",
   "name": "python3"
  },
  "language_info": {
   "codemirror_mode": {
    "name": "ipython",
    "version": 3
   },
   "file_extension": ".py",
   "mimetype": "text/x-python",
   "name": "python",
   "nbconvert_exporter": "python",
   "pygments_lexer": "ipython3",
   "version": "3.9.16"
  }
 },
 "nbformat": 4,
 "nbformat_minor": 5
}
