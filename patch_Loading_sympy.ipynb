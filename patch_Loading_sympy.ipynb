{
 "cells": [
  {
   "cell_type": "code",
   "execution_count": 1,
   "id": "2f5832e1-fa73-4329-86d0-4b70871c2c06",
   "metadata": {
    "tags": []
   },
   "outputs": [],
   "source": [
    "import numpy as np\n",
    "from sympy import symbols, Eq, Function,UnevaluatedExpr, Mul, Rational, sqrt, Min\n",
    "from sympy import Piecewise, nan, N, And, log\n",
    "from sympy import *\n",
    "from sympy import N\n",
    "init_printing()\n",
    "import matplotlib.pyplot as plt\n",
    "from IPython.display import display, Markdown\n",
    "import warnings\n"
   ]
  },
  {
   "cell_type": "code",
   "execution_count": 2,
   "id": "f38a5562-027f-49c5-a204-de1f59087c43",
   "metadata": {
    "tags": []
   },
   "outputs": [],
   "source": [
    "F_Ed, t_w, h_w, b_f, f_yf, t_f, f_yw, gamma_M1, E, S_S, a, c, epsilon, f_y = symbols(\n",
    "\t'F_Ed t_w h_w b_f f_yf t_f f_yw gamma_M1 E S_S a c epsilon f_y')\n",
    "\n",
    "k_F, F_cr, m_1, m_2, l_e, l_y, F_y, lambda_F, chi_F, F_Rd, eta_2=symbols('k_F  F_cr  m_1  m_2  l_e  l_y  F_y  lambda_F  chi_F  F_Rd  eta_2')\n",
    "\n",
    "def k_F_func(Type,**kwargs):\n",
    "\tkwargs = {eval(key): UnevaluatedExpr(value) for key, value in kwargs.items()}\n",
    "\tif Type == \"A\":\n",
    "\t\texpr = 6 + 2 * (h_w / a)**2\n",
    "\tif Type == \"B\":\n",
    "\t\texpr = 3.5 + 2 * (h_w / a)**2\n",
    "\tif Type == \"C\":\n",
    "\t\texpr = 6 + 2 * ((S_S + c) / h_w)**2\n",
    "\t_eq=Eq(k_F,expr)\n",
    "\t_eq=_eq.subs(kwargs)\n",
    "\treturn _eq\n",
    "\n",
    "def F_cr_func(Type, **kwargs):\n",
    "    kwargs = {eval(key): UnevaluatedExpr(value) for key, value in kwargs.items()}\n",
    "    expr=0.9*(k_F*E)*(t_w**3/h_w )\n",
    "    _eq=Eq(F_cr,expr)\n",
    "    _eq=_eq.subs(kwargs)\n",
    "    return _eq\n",
    "    \n",
    "def m_1_func(Type, **kwargs):\n",
    "    kwargs = {eval(key): UnevaluatedExpr(value) for key, value in kwargs.items()}\n",
    "    expr= f_yf*b_f/(f_yw*t_w)\n",
    "    _eq=Eq(m_1,expr)\n",
    "    _eq=_eq.subs(kwargs)\n",
    "    return _eq\n",
    "\n",
    "def m_2_func(Type, **kwargs):\n",
    "    kwargs = {eval(key): UnevaluatedExpr(value) for key, value in kwargs.items()}\n",
    "    #condlist=[lambda_F>0.5, lambda_F<=0.5]\n",
    "    #funclist=[0.02*(h_w/t_f)**2, 0]\n",
    "    #expr = Piecewise(*zip(funclist,condlist))\n",
    "    expr=0.02*(h_w/t_f)**2\n",
    "    _eq=Eq(m_2,expr)\n",
    "    _eq=_eq.subs(kwargs)\n",
    "    return _eq\n",
    "\n",
    "#l_y_func(Type, **kwargs)\n",
    "\n",
    "\n",
    "def l_e_func(Type=\"C\", **kwargs):\n",
    "    kwargs = {eval(key): UnevaluatedExpr(value) for key, value in kwargs.items()}\n",
    "    #if Type==\"C\":\n",
    "    expr=(k_F*E*t_w**2)/(2*f_yw*h_w)  \n",
    "    _eq=Eq(l_e,expr)\n",
    "    _eq=_eq.subs(kwargs)\n",
    "    return _eq\n",
    "\n",
    "\n",
    "\n",
    "\n",
    "def l_y_func(Type, **kwargs):\n",
    "    #kwargs = {eval(key): UnevaluatedExpr(value) for key, value in kwargs.items()}\n",
    "    if Type==\"A\" or Type==\"B\":\n",
    "        expr=S_S+2*t_f*(1+sqrt(m_1+m_2))\n",
    "    if Type==\"C\":\n",
    "        expr1=l_e+t_f*sqrt(m_1/2+(l_e/t_f)**2+m_2)\n",
    "        expr2=l_e+t_f*sqrt(m_1+m_2)\n",
    "        expr=Min(expr1,expr2)\n",
    "    _eq=Eq(l_y,expr)\n",
    "    _eq=_eq.subs(kwargs)#.subs(l_e, l_e_expr)\n",
    "    return _eq\n",
    "\n",
    "def F_y_func(Type, **kwargs):\n",
    "    kwargs = {eval(key): UnevaluatedExpr(value) for key, value in kwargs.items()}\n",
    "    expr=f_yw*t_w*l_y\n",
    "    _eq=Eq(F_y,expr)\n",
    "    _eq=_eq.subs(kwargs)\n",
    "    return _eq\n",
    "\n",
    "def lambda_F_func(Type, **kwargs):\n",
    "    kwargs = {eval(key): UnevaluatedExpr(value) for key, value in kwargs.items()}\n",
    "    expr= sqrt(l_y*t_w*f_yw/F_cr)\n",
    "    _eq=Eq(lambda_F,expr)\n",
    "    _eq=_eq.subs(kwargs)\n",
    "    return _eq\n",
    "\n",
    "def chi_F_func(Type,**kwargs):\n",
    "    kwargs = {eval(key): UnevaluatedExpr(value) for key, value in kwargs.items()}\n",
    "    expr= 0.5/ lambda_F\n",
    "    _eq=Eq(chi_F,expr)\n",
    "    _eq=_eq.subs(kwargs)\n",
    "    return _eq\n",
    "\n",
    "def F_Rd_func(Type,**kwargs):\n",
    "    kwargs = {eval(key): UnevaluatedExpr(value) for key, value in kwargs.items()}\n",
    "    expr=chi_F*F_y/gamma_M1\n",
    "    _eq=Eq(F_Rd,expr)\n",
    "    _eq=_eq.subs(kwargs)\n",
    "    return _eq\n",
    "    \n",
    "def eta_2_func(Type,**kwargs):\n",
    "    kwargs = {eval(key): UnevaluatedExpr(value) for key, value in kwargs.items()}\n",
    "    expr= F_Ed/F_Rd\n",
    "    _eq=Eq(eta_2,expr)\n",
    "    _eq=_eq.subs(kwargs)\n",
    "    return _eq\n"
   ]
  },
  {
   "cell_type": "code",
   "execution_count": 3,
   "id": "1c18e288-1207-4b4c-ac23-576e19adbd80",
   "metadata": {
    "tags": []
   },
   "outputs": [
    {
     "data": {
      "text/markdown": [
       " Hello $CFC_{sl}$"
      ],
      "text/plain": [
       "<IPython.core.display.Markdown object>"
      ]
     },
     "metadata": {},
     "output_type": "display_data"
    }
   ],
   "source": [
    "Markdown(\"\"\" Hello $F_{cr}$\"\"\")\n",
    "display(Markdown(f\"\"\" Hello $CFC_{{sl}}$\"\"\"))\n"
   ]
  },
  {
   "cell_type": "code",
   "execution_count": 4,
   "id": "bc7563f3-209b-4085-ad84-d570b2a91808",
   "metadata": {
    "tags": []
   },
   "outputs": [],
   "source": [
    "# Input parameters\n",
    "F_Ed_val = 1415  # OK\n",
    "t_w_val = 15e-3  # OK\n",
    "h_w_val = 270e-3  # OK\n",
    "b_f_val = 300e-3  # OK\n",
    "f_yf_val = 355e3  # OK\n",
    "t_f_val = 30e-3  # OK\n",
    "f_yw_val = 355e3  # OK\n",
    "gamma_M1_val = 1.1  # OK\n",
    "E_val = 200e6  # OK\n",
    "S_S_val = 300e-3  # OK\n",
    "a_val = 1185e-3  # OK\n",
    "c_val = 0.9\n",
    "db={'F_Ed':F_Ed_val, 't_w': t_w_val, 'h_w': h_w_val, 'b_f':b_f_val,\n",
    "\t\"f_yf\": f_yf_val, \"t_f\":t_f_val, \"f_yw\":f_yw_val, \"gamma_M1\": gamma_M1_val,\n",
    "\t\"E\":E_val, \"S_S\":S_S_val, \"a\":a_val, \"c\":c_val}\n",
    "Types=[\"A\",\"B\",\"C\"]\n"
   ]
  },
  {
   "cell_type": "code",
   "execution_count": 5,
   "id": "f2091d32-215b-4f72-9ec8-97eadd471410",
   "metadata": {
    "tags": []
   },
   "outputs": [],
   "source": [
    "\n",
    "Type= \"A\"\n"
   ]
  },
  {
   "cell_type": "code",
   "execution_count": 6,
   "id": "87a257f5-f2c0-41ea-8da4-5fac4e70785e",
   "metadata": {
    "tags": []
   },
   "outputs": [
    {
     "data": {
      "text/markdown": [
       "Type=A"
      ],
      "text/plain": [
       "<IPython.core.display.Markdown object>"
      ]
     },
     "metadata": {},
     "output_type": "display_data"
    },
    {
     "data": {
      "text/markdown": [
       "Calculate the $k_F$:"
      ],
      "text/plain": [
       "<IPython.core.display.Markdown object>"
      ]
     },
     "metadata": {},
     "output_type": "display_data"
    },
    {
     "data": {
      "image/png": "[encoded data removed]",
      "text/latex": [
       "$\\displaystyle k_{F} = 6 + \\frac{2 h_{w}^{2}}{a^{2}}$"
      ],
      "text/plain": [
       "               2\n",
       "          2⋅h_w \n",
       "k_F = 6 + ──────\n",
       "             2  \n",
       "            a   "
      ]
     },
     "metadata": {},
     "output_type": "display_data"
    },
    {
     "data": {
      "image/png": "[encoded data removed]",
      "text/latex": [
       "$\\displaystyle k_{F} = 6 + 2 \\cdot 0.27^{2} \\cdot 1.185^{-2}$"
      ],
      "text/plain": [
       "                2      -2\n",
       "k_F = 6 + 2⋅0.27 ⋅1.185  "
      ]
     },
     "metadata": {},
     "output_type": "display_data"
    },
    {
     "data": {
      "image/png": "[encoded data removed]",
      "text/latex": [
       "$\\displaystyle k_{F} = 6.1$"
      ],
      "text/plain": [
       "k_F = 6.1"
      ]
     },
     "metadata": {},
     "output_type": "display_data"
    },
    {
     "data": {
      "text/markdown": [
       "Calculate the $F_{{cr}}$:"
      ],
      "text/plain": [
       "<IPython.core.display.Markdown object>"
      ]
     },
     "metadata": {},
     "output_type": "display_data"
    },
    {
     "data": {
      "image/png": "[encoded data removed]",
      "text/latex": [
       "$\\displaystyle F_{cr} = \\frac{0.9 E k_{F} t_{w}^{3}}{h_{w}}$"
      ],
      "text/plain": [
       "                    3\n",
       "       0.9⋅E⋅k_F⋅t_w \n",
       "F_cr = ──────────────\n",
       "            h_w      "
      ]
     },
     "metadata": {},
     "output_type": "display_data"
    },
    {
     "data": {
      "image/png": "[encoded data removed]",
      "text/latex": [
       "$\\displaystyle F_{cr} = 0.9 \\cdot 0.015^{3} \\cdot 6.1 \\cdot 0.27^{-1} \\cdot 200000000.0$"
      ],
      "text/plain": [
       "                3         -1            \n",
       "F_cr = 0.9⋅0.015 ⋅6.1⋅0.27  ⋅200000000.0"
      ]
     },
     "metadata": {},
     "output_type": "display_data"
    },
    {
     "data": {
      "image/png": "[encoded data removed]",
      "text/latex": [
       "$\\displaystyle F_{cr} = 1.37 \\cdot 10^{4}$"
      ],
      "text/plain": [
       "F_cr = 1.37e+4"
      ]
     },
     "metadata": {},
     "output_type": "display_data"
    },
    {
     "data": {
      "text/markdown": [
       "Calculate $m_1$"
      ],
      "text/plain": [
       "<IPython.core.display.Markdown object>"
      ]
     },
     "metadata": {},
     "output_type": "display_data"
    },
    {
     "data": {
      "image/png": "[encoded data removed]",
      "text/latex": [
       "$\\displaystyle m_{1} = \\frac{b_{f} f_{yf}}{f_{yw} t_{w}}$"
      ],
      "text/plain": [
       "     b_f⋅f_yf\n",
       "m₁ = ────────\n",
       "     f_yw⋅t_w"
      ]
     },
     "metadata": {},
     "output_type": "display_data"
    },
    {
     "data": {
      "image/png": "[encoded data removed]",
      "text/latex": [
       "$\\displaystyle m_{1} = 0.015^{-1} \\cdot 0.3$"
      ],
      "text/plain": [
       "          -1    \n",
       "m₁ = 0.015  ⋅0.3"
      ]
     },
     "metadata": {},
     "output_type": "display_data"
    },
    {
     "data": {
      "image/png": "[encoded data removed]",
      "text/latex": [
       "$\\displaystyle m_{1} = 20.0$"
      ],
      "text/plain": [
       "m₁ = 20.0"
      ]
     },
     "metadata": {},
     "output_type": "display_data"
    },
    {
     "data": {
      "text/markdown": [
       "Calculate $m_2$"
      ],
      "text/plain": [
       "<IPython.core.display.Markdown object>"
      ]
     },
     "metadata": {},
     "output_type": "display_data"
    },
    {
     "data": {
      "image/png": "[encoded data removed]",
      "text/latex": [
       "$\\displaystyle m_{2} = \\frac{0.02 h_{w}^{2}}{t_{f}^{2}}$"
      ],
      "text/plain": [
       "             2\n",
       "     0.02⋅h_w \n",
       "m₂ = ─────────\n",
       "           2  \n",
       "        t_f   "
      ]
     },
     "metadata": {},
     "output_type": "display_data"
    },
    {
     "data": {
      "image/png": "[encoded data removed]",
      "text/latex": [
       "$\\displaystyle m_{2} = 0.02 \\cdot 0.03^{-2} \\cdot 0.27^{2}$"
      ],
      "text/plain": [
       "              -2     2\n",
       "m₂ = 0.02⋅0.03  ⋅0.27 "
      ]
     },
     "metadata": {},
     "output_type": "display_data"
    },
    {
     "data": {
      "image/png": "[encoded data removed]",
      "text/latex": [
       "$\\displaystyle m_{2} = 1.62$"
      ],
      "text/plain": [
       "m₂ = 1.62"
      ]
     },
     "metadata": {},
     "output_type": "display_data"
    },
    {
     "data": {
      "text/markdown": [
       "Calculate $l_y$"
      ],
      "text/plain": [
       "<IPython.core.display.Markdown object>"
      ]
     },
     "metadata": {},
     "output_type": "display_data"
    },
    {
     "data": {
      "image/png": "[encoded data removed]",
      "text/latex": [
       "$\\displaystyle l_{y} = S_{S} + 2 t_{f} \\left(\\sqrt{m_{1} + m_{2}} + 1\\right)$"
      ],
      "text/plain": [
       "                  ⎛  _________    ⎞\n",
       "l_y = S_S + 2⋅t_f⋅⎝╲╱ m₁ + m₂  + 1⎠"
      ]
     },
     "metadata": {},
     "output_type": "display_data"
    },
    {
     "data": {
      "image/png": "[encoded data removed]",
      "text/latex": [
       "$\\displaystyle l_{y} = 0.63896484375$"
      ],
      "text/plain": [
       "l_y = 0.63896484375"
      ]
     },
     "metadata": {},
     "output_type": "display_data"
    },
    {
     "data": {
      "image/png": "[encoded data removed]",
      "text/latex": [
       "$\\displaystyle l_{y} = 0.639$"
      ],
      "text/plain": [
       "l_y = 0.639"
      ]
     },
     "metadata": {},
     "output_type": "display_data"
    },
    {
     "data": {
      "text/markdown": [
       "Calculate $F_y$"
      ],
      "text/plain": [
       "<IPython.core.display.Markdown object>"
      ]
     },
     "metadata": {},
     "output_type": "display_data"
    },
    {
     "data": {
      "image/png": "[encoded data removed]",
      "text/latex": [
       "$\\displaystyle F_{y} = f_{yw} l_{y} t_{w}$"
      ],
      "text/plain": [
       "F_y = f_yw⋅l_y⋅t_w"
      ]
     },
     "metadata": {},
     "output_type": "display_data"
    },
    {
     "data": {
      "image/png": "[encoded data removed]",
      "text/latex": [
       "$\\displaystyle F_{y} = 0.015 \\cdot 0.639 \\cdot 355000.0$"
      ],
      "text/plain": [
       "F_y = 0.015⋅0.639⋅355000.0"
      ]
     },
     "metadata": {},
     "output_type": "display_data"
    },
    {
     "data": {
      "image/png": "[encoded data removed]",
      "text/latex": [
       "$\\displaystyle F_{y} = 3.4 \\cdot 10^{3}$"
      ],
      "text/plain": [
       "F_y = 3.4e+3"
      ]
     },
     "metadata": {},
     "output_type": "display_data"
    },
    {
     "data": {
      "image/png": "[encoded data removed]",
      "text/latex": [
       "$\\displaystyle \\lambda_{F} = \\sqrt{\\frac{f_{yw} l_{y} t_{w}}{F_{cr}}}$"
      ],
      "text/plain": [
       "          ______________\n",
       "         ╱ f_yw⋅l_y⋅t_w \n",
       "λ_F =   ╱  ──────────── \n",
       "      ╲╱       F_cr     "
      ]
     },
     "metadata": {},
     "output_type": "display_data"
    },
    {
     "data": {
      "text/latex": [
       "$\\displaystyle \\lambda_{F} = \\sqrt{0.015 \\cdot 0.639 \\cdot 355000.0 \\cdot 1.37 \\cdot 10^{4}^{-1}}$"
      ],
      "text/plain": [
       "                                      1/2\n",
       "      ⎛                            -1⎞   \n",
       "λ_F = ⎝0.015⋅0.639⋅355000.0⋅1.37e+4  ⎠   "
      ]
     },
     "metadata": {},
     "output_type": "display_data"
    },
    {
     "data": {
      "image/png": "[encoded data removed]",
      "text/latex": [
       "$\\displaystyle \\lambda_{F} = 0.498$"
      ],
      "text/plain": [
       "λ_F = 0.498"
      ]
     },
     "metadata": {},
     "output_type": "display_data"
    },
    {
     "data": {
      "text/markdown": [
       "In this case $\\lambda_F=$0.498 $< 0.5$, we need to recalculate $m_2=0$"
      ],
      "text/plain": [
       "<IPython.core.display.Markdown object>"
      ]
     },
     "metadata": {},
     "output_type": "display_data"
    },
    {
     "data": {
      "image/png": "[encoded data removed]",
      "text/latex": [
       "$\\displaystyle m_{2} = 0$"
      ],
      "text/plain": [
       "m₂ = 0"
      ]
     },
     "metadata": {},
     "output_type": "display_data"
    },
    {
     "data": {
      "image/png": "[encoded data removed]",
      "text/latex": [
       "$\\displaystyle l_{y} = S_{S} + 2 t_{f} \\left(\\sqrt{m_{1} + m_{2}} + 1\\right)$"
      ],
      "text/plain": [
       "                  ⎛  _________    ⎞\n",
       "l_y = S_S + 2⋅t_f⋅⎝╲╱ m₁ + m₂  + 1⎠"
      ]
     },
     "metadata": {},
     "output_type": "display_data"
    },
    {
     "data": {
      "image/png": "[encoded data removed]",
      "text/latex": [
       "$\\displaystyle l_{y} = 0.62830078125$"
      ],
      "text/plain": [
       "l_y = 0.62830078125"
      ]
     },
     "metadata": {},
     "output_type": "display_data"
    },
    {
     "data": {
      "image/png": "[encoded data removed]",
      "text/latex": [
       "$\\displaystyle l_{y} = 0.628$"
      ],
      "text/plain": [
       "l_y = 0.628"
      ]
     },
     "metadata": {},
     "output_type": "display_data"
    },
    {
     "data": {
      "image/png": "[encoded data removed]",
      "text/latex": [
       "$\\displaystyle F_{y} = f_{yw} l_{y} t_{w}$"
      ],
      "text/plain": [
       "F_y = f_yw⋅l_y⋅t_w"
      ]
     },
     "metadata": {},
     "output_type": "display_data"
    },
    {
     "data": {
      "image/png": "[encoded data removed]",
      "text/latex": [
       "$\\displaystyle F_{y} = 3.35 \\cdot 10^{3}$"
      ],
      "text/plain": [
       "F_y = 3.35e+3"
      ]
     },
     "metadata": {},
     "output_type": "display_data"
    },
    {
     "data": {
      "image/png": "[encoded data removed]",
      "text/latex": [
       "$\\displaystyle \\lambda_{F} = \\sqrt{\\frac{f_{yw} l_{y} t_{w}}{F_{cr}}}$"
      ],
      "text/plain": [
       "          ______________\n",
       "         ╱ f_yw⋅l_y⋅t_w \n",
       "λ_F =   ╱  ──────────── \n",
       "      ╲╱       F_cr     "
      ]
     },
     "metadata": {},
     "output_type": "display_data"
    },
    {
     "data": {
      "image/png": "[encoded data removed]",
      "text/latex": [
       "$\\displaystyle \\lambda_{F} = 0.494$"
      ],
      "text/plain": [
       "λ_F = 0.494"
      ]
     },
     "metadata": {},
     "output_type": "display_data"
    },
    {
     "data": {
      "text/markdown": [
       "In this case $m_2=0$,  $\\lambda_F=$0.494 $< 0.5$, does not satisfy the condition"
      ],
      "text/plain": [
       "<IPython.core.display.Markdown object>"
      ]
     },
     "metadata": {},
     "output_type": "display_data"
    }
   ],
   "source": [
    "display(Markdown(f\"\"\"Type={Type}\"\"\"))\n",
    "if db['S_S'] < db['a']:\n",
    "    display(Markdown(\"\"\"Calculate the $k_F$:\"\"\"))\n",
    "    display(k_F_func(Type))\n",
    "    display(k_F_func(Type,**db))\n",
    "    k_F_val=N(k_F_func(Type,**db).doit(),3)\n",
    "    display(k_F_val)\n",
    "    db['k_F']=k_F_val.rhs\n",
    "    \n",
    "    #F_cr\n",
    "    display(Markdown(\"\"\"Calculate the $F_{{cr}}$:\"\"\"))\n",
    "    display(F_cr_func(Type))\n",
    "    display(F_cr_func(Type,**db))\n",
    "    F_cr_val=N(F_cr_func(Type,**db).doit(),3)\n",
    "    display(F_cr_val)\n",
    "    db['F_cr']=F_cr_val.rhs\n",
    "    if db['F_cr'] < db['F_Ed']:\n",
    "        display(Markdown(f\"\"\" $F_{{cr}}$={db['F_cr']} < $F_{{Ed}}$={db['F_Ed']}. FIN! La estructura no cumple frente a patch loading\"\"\"))\n",
    "    else:\n",
    "        display(Markdown(\"\"\"Calculate $m_1$\"\"\"))\n",
    "        display(m_1_func(Type))\n",
    "        display(m_1_func(Type,**db))\n",
    "        m_1_val=N(m_1_func(Type,**db).doit(),3)\n",
    "        display(m_1_val)\n",
    "        db['m_1']=m_1_val.rhs\n",
    "        display(Markdown(f\"\"\"Calculate $m_2$\"\"\"))\n",
    "        display(m_2_func(Type))\n",
    "        display(m_2_func(Type,**db))\n",
    "        m_2_val=N(m_2_func(Type,**db).doit(),3)\n",
    "        display(m_2_val)\n",
    "        db['m_2']=m_2_val.rhs\n",
    "        \n",
    "        if Type==\"C\":\n",
    "            display(Markdown(f\"\"\"Calculate $l_e$ when for type 'C' \"\"\"))\n",
    "            display(l_e_func(Type))\n",
    "            display(l_e_func(Type,**db))\n",
    "            l_e_val=N(l_e_func(Type,**db).doit(),3)\n",
    "            display(l_e_val)\n",
    "            db['l_e']=l_e_val.rhs\n",
    "        display(Markdown(\"\"\"Calculate $l_y$\"\"\"))\n",
    "        display(l_y_func(Type))\n",
    "        display(l_y_func(Type,**db))\n",
    "        l_y_val=N(l_y_func(Type,**db).doit(),3)\n",
    "        display(l_y_val)\n",
    "        db['l_y']=l_y_val.rhs\n",
    "        display(Markdown(f\"\"\"Calculate $F_y$\"\"\"))\n",
    "        display(F_y_func(Type))\n",
    "        display(F_y_func(Type,**db))\n",
    "        F_y_val=N(F_y_func(Type,**db).doit(),3)\n",
    "        display(F_y_val)\n",
    "        db['F_y']=F_y_val.rhs\n",
    "        if db['F_y'] < db['F_Ed']:\n",
    "            display(Markdown(f\"\"\"$F_y=${db['F_y']} < $F_Ed=${db['F_Ed']}. FIN! La estructura no cumple frente a patch loading\"\"\"))\n",
    "\n",
    "        display(lambda_F_func(Type))\n",
    "        display(lambda_F_func(Type,**db))\n",
    "        lambda_F_val=N(lambda_F_func(Type,**db).doit(),3)\n",
    "        display(lambda_F_val)\n",
    "        db['lambda_F']=lambda_F_val.rhs\n",
    "        \n",
    "        if db['lambda_F']<=0.5:\n",
    "            display(Markdown(f\"\"\"In this case $\\lambda_F=${db['lambda_F']} $< 0.5$, we need to recalculate $m_2=0$\"\"\"))\n",
    "            del db['m_2']\n",
    "            if 'l_e' in db.keys():\n",
    "                del db['l_e']\n",
    "            del db['l_y']\n",
    "            del db['F_y']\n",
    "            del db['lambda_F']\n",
    "            display(Eq(m_2,0))\n",
    "            db['m_2']=0\n",
    "            if Type==\"C\":\n",
    "                display(l_e_func(Type))\n",
    "                display(l_e_func(Type,**db))\n",
    "                l_e_val=N(l_e_func(Type,**db).doit(),3)\n",
    "                display(l_e_val)\n",
    "                db['l_e']=l_e_val.rhs\n",
    "\n",
    "            display(l_y_func(Type))\n",
    "            display(l_y_func(Type,**db))\n",
    "            l_y_val=N(l_y_func(Type,**db).doit(),3)\n",
    "            display(l_y_val)\n",
    "            db['l_y']=l_y_val.rhs\n",
    "\n",
    "            display(F_y_func(Type))\n",
    "            #display(F_y_func(Type,**db))\n",
    "            F_y_val=N(F_y_func(Type,**db).doit(),3)\n",
    "            display(F_y_val)\n",
    "            db['F_y']=F_y_val.rhs\n",
    "            if db['F_y'] < db['F_Ed']:\n",
    "                display(Markdown(f\"\"\"$F_y=${db['F_y']} < $F_{{Ed}}=${db['F_Ed']}. FIN! La estructura no cumple frente a patch loading\"\"\"))\n",
    "\n",
    "            display(lambda_F_func(Type))\n",
    "           #display(lambda_F_func(Type,**db))\n",
    "            lambda_F_val=N(lambda_F_func(Type,**db).doit(),3)\n",
    "            display(lambda_F_val)\n",
    "            db['lambda_F']=lambda_F_val.rhs\n",
    "            if db['lambda_F']<=0.5:\n",
    "                display(Markdown(f\"\"\"In this case $m_2=0$,  $\\lambda_F=${db['lambda_F']} $< 0.5$, does not satisfy the condition\"\"\"))\n",
    "            else:\n",
    "                display(Markdown(f\"\"\"Calculate $\\chi_F$:\"\"\"))\n",
    "                display(chi_F_func(Type))\n",
    "                display(chi_F_func(Type,**db))\n",
    "                chi_F_val=N(chi_F_func(Type,**db).doit(),3)\n",
    "                display(chi_F_val)\n",
    "                db['chi_F']=chi_F_val.rhs\n",
    "                \n",
    "                display(Markdown(f\"\"\"Calculate $F_{{Rd}}$:\"\"\"))\n",
    "                display(F_Rd_func(Type))\n",
    "                display(F_Rd_func(Type,**db))\n",
    "                F_Rd_val=N(F_Rd_func(Type,**db).doit(),3)\n",
    "                display(F_Rd_val)\n",
    "                db['F_Rd']=F_Rd_val.rhs\n",
    "                if db['F_Rd']<db['F_Ed']:\n",
    "                    display(Markdown( f\"\"\"$F_{{Rd}}$={db['F_Rd']}<$F_{{Ed}}=${db['F_Ed']}. FIN! La estructura no cumple frente a patch loading\"\"\"))\n",
    "                else:\n",
    "                    print(f\"Calculate $\\eta_2$ \")\n",
    "                    display(eta_2_func(Type))\n",
    "                    display(eta_2_func(Type,**db))\n",
    "                    eta_2_val=N(eta_2_func(Type,**db).doit(),3)\n",
    "                    display(eta_2_val)\n",
    "                    db['eta_2']=eta_2_val.rhs      \n",
    "\n",
    "        else:\n",
    "            display(Markdown(f\"\"\"Calculate $\\chi_F$:\"\"\"))\n",
    "            display(chi_F_func(Type))\n",
    "            display(chi_F_func(Type,**db))\n",
    "            chi_F_val=N(chi_F_func(Type,**db).doit(),3)\n",
    "            display(chi_F_val)\n",
    "            db['chi_F']=chi_F_val.rhs\n",
    "\n",
    "            display(Markdown(f\"\"\"Calculate $F_{{Rd}}$:\"\"\"))\n",
    "            display(F_Rd_func(Type))\n",
    "            display(F_Rd_func(Type,**db))\n",
    "            F_Rd_val=N(F_Rd_func(Type,**db).doit(),3)\n",
    "            display(F_Rd_val)\n",
    "            db['F_Rd']=F_Rd_val.rhs\n",
    "\n",
    "\n",
    "            if db['F_Rd']<db['F_Ed']:\n",
    "                display(Markdown( f\"\"\"$F_{{Rd}}$={db['F_Rd']}<$F_{{Ed}}=${db['F_Ed']}. FIN! La estructura no cumple frente a patch loading\"\"\"))\n",
    "\n",
    "\n",
    "            display(eta_2_func(Type))\n",
    "            display(eta_2_func(Type,**db))\n",
    "            eta_2_val=N(eta_2_func(Type,**db).doit(),3)\n",
    "            display(eta_2_val)\n",
    "            db['eta_2']=eta_2_val.rhs\n",
    "else:\n",
    "     display(Markdown(f\"\"\"FIN! La estructura no cumple frente a patch loading\"\"\"))\n",
    "    \n",
    "    "
   ]
  },
  {
   "cell_type": "code",
   "execution_count": null,
   "id": "727a212d-1add-4e52-a00b-a6147c0401e5",
   "metadata": {
    "tags": []
   },
   "outputs": [],
   "source": []
  },
  {
   "cell_type": "code",
   "execution_count": null,
   "id": "a1aa353a-1d6d-4cc4-bd57-c979f789c63c",
   "metadata": {},
   "outputs": [],
   "source": []
  }
 ],
 "metadata": {
  "kernelspec": {
   "display_name": "Python 3 (ipykernel)",
   "language": "python",
   "name": "python3"
  },
  "language_info": {
   "codemirror_mode": {
    "name": "ipython",
    "version": 3
   },
   "file_extension": ".py",
   "mimetype": "text/x-python",
   "name": "python",
   "nbconvert_exporter": "python",
   "pygments_lexer": "ipython3",
   "version": "3.10.9"
  }
 },
 "nbformat": 4,
 "nbformat_minor": 5
}
