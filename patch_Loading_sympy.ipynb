{
 "cells": [
  {
   "cell_type": "code",
   "execution_count": 1,
   "id": "2f5832e1-fa73-4329-86d0-4b70871c2c06",
   "metadata": {
    "tags": []
   },
   "outputs": [],
   "source": [
    "import numpy as np\n",
    "from sympy import symbols, Eq, Function,UnevaluatedExpr, Mul, Rational, sqrt, Min\n",
    "from sympy import Piecewise, nan, N, And, log\n",
    "from sympy import *\n",
    "from sympy import N\n",
    "init_printing()\n",
    "import matplotlib.pyplot as plt\n",
    "from IPython.display import display, Markdown\n",
    "import warnings\n"
   ]
  },
  {
   "cell_type": "code",
   "execution_count": 2,
   "id": "f38a5562-027f-49c5-a204-de1f59087c43",
   "metadata": {
    "tags": []
   },
   "outputs": [],
   "source": [
    "F_Ed, t_w, h_w, b_f, f_yf, t_f, f_yw, gamma_M1, E, s_s, a, c, epsilon, f_y = symbols(\n",
    "\t'F_Ed t_w h_w b_f f_yf t_f f_yw gamma_M1 E s_s a c epsilon f_y')\n",
    "\n",
    "k_F, F_cr, m_1, m_2, l_e, l_y, F_y, lambda_F, chi_F, F_Rd, eta_2=symbols('k_F  F_cr  m_1  m_2  l_e  l_y  F_y  lambda_F  chi_F  F_Rd  eta_2')\n",
    "\n",
    "def k_F_func(Type,**kwargs):\n",
    "\tkwargs = {eval(key): UnevaluatedExpr(value) for key, value in kwargs.items()}\n",
    "\tif Type == \"A\":\n",
    "\t\texpr = 6 + 2 * (h_w / a)**2\n",
    "\tif Type == \"B\":\n",
    "\t\texpr = 3.5 + 2 * (h_w / a)**2\n",
    "\tif Type == \"C\":\n",
    "\t\texpr = 6 + 2 * ((s_s + c) / h_w)**2\n",
    "\t_eq=Eq(k_F,expr)\n",
    "\t_eq=_eq.subs(kwargs)\n",
    "\treturn _eq\n",
    "\n",
    "def F_cr_func(Type, **kwargs):\n",
    "    kwargs = {eval(key): UnevaluatedExpr(value) for key, value in kwargs.items()}\n",
    "    expr=0.9*(k_F*E)*(t_w**3/h_w )\n",
    "    _eq=Eq(F_cr,expr)\n",
    "    _eq=_eq.subs(kwargs)\n",
    "    return _eq\n",
    "    \n",
    "def m_1_func(Type, **kwargs):\n",
    "    kwargs = {eval(key): UnevaluatedExpr(value) for key, value in kwargs.items()}\n",
    "    expr= f_yf*b_f/(f_yw*t_w)\n",
    "    _eq=Eq(m_1,expr)\n",
    "    _eq=_eq.subs(kwargs)\n",
    "    return _eq\n",
    "\n",
    "def m_2_func(Type, **kwargs):\n",
    "    kwargs = {eval(key): UnevaluatedExpr(value) for key, value in kwargs.items()}\n",
    "    #condlist=[lambda_F>0.5, lambda_F<=0.5]\n",
    "    #funclist=[0.02*(h_w/t_f)**2, 0]\n",
    "    #expr = Piecewise(*zip(funclist,condlist))\n",
    "    expr=0.02*(h_w/t_f)**2\n",
    "    _eq=Eq(m_2,expr)\n",
    "    _eq=_eq.subs(kwargs)\n",
    "    return _eq\n",
    "\n",
    "#l_y_func(Type, **kwargs)\n",
    "\n",
    "\n",
    "def l_e_func(Type=\"C\", **kwargs):\n",
    "    kwargs = {eval(key): UnevaluatedExpr(value) for key, value in kwargs.items()}\n",
    "    #if Type==\"C\":\n",
    "    expr=(k_F*E*t_w**2)/(2*f_yw*h_w)  \n",
    "    _eq=Eq(l_e,expr)\n",
    "    _eq=_eq.subs(kwargs)\n",
    "    return _eq\n",
    "\n",
    "\n",
    "\n",
    "\n",
    "def l_y_func(Type, **kwargs):\n",
    "    #kwargs = {eval(key): UnevaluatedExpr(value) for key, value in kwargs.items()}\n",
    "    if Type==\"A\" or Type==\"B\":\n",
    "        expr=s_s+2*t_f*(1+sqrt(m_1+m_2))\n",
    "    if Type==\"C\":\n",
    "        expr1=l_e+t_f*sqrt(m_1/2+(l_e/t_f)**2+m_2)\n",
    "        expr2=l_e+t_f*sqrt(m_1+m_2)\n",
    "        expr=Min(expr1,expr2)\n",
    "    _eq=Eq(l_y,expr)\n",
    "    _eq=_eq.subs(kwargs)#.subs(l_e, l_e_expr)\n",
    "    return _eq\n",
    "\n",
    "def F_y_func(Type, **kwargs):\n",
    "    kwargs = {eval(key): UnevaluatedExpr(value) for key, value in kwargs.items()}\n",
    "    expr=f_yw*t_w*l_y\n",
    "    _eq=Eq(F_y,expr)\n",
    "    _eq=_eq.subs(kwargs)\n",
    "    return _eq\n",
    "\n",
    "def lambda_F_func(Type, **kwargs):\n",
    "    kwargs = {eval(key): UnevaluatedExpr(value) for key, value in kwargs.items()}\n",
    "    expr= sqrt(l_y*t_w*f_yw/F_cr)\n",
    "    _eq=Eq(lambda_F,expr)\n",
    "    _eq=_eq.subs(kwargs)\n",
    "    return _eq\n",
    "\n",
    "def chi_F_func(Type,**kwargs):\n",
    "    kwargs = {eval(key): UnevaluatedExpr(value) for key, value in kwargs.items()}\n",
    "    expr= 0.5/ lambda_F\n",
    "    _eq=Eq(chi_F,expr)\n",
    "    _eq=_eq.subs(kwargs)\n",
    "    return _eq\n",
    "\n",
    "def F_Rd_func(Type,**kwargs):\n",
    "    kwargs = {eval(key): UnevaluatedExpr(value) for key, value in kwargs.items()}\n",
    "    expr=chi_F*F_y/gamma_M1\n",
    "    _eq=Eq(F_Rd,expr)\n",
    "    _eq=_eq.subs(kwargs)\n",
    "    return _eq\n",
    "    \n",
    "def eta_2_func(Type,**kwargs):\n",
    "    kwargs = {eval(key): UnevaluatedExpr(value) for key, value in kwargs.items()}\n",
    "    expr= F_Ed/F_Rd\n",
    "    _eq=Eq(eta_2,expr)\n",
    "    _eq=_eq.subs(kwargs)\n",
    "    return _eq\n"
   ]
  },
  {
   "cell_type": "code",
   "execution_count": 3,
   "id": "1c18e288-1207-4b4c-ac23-576e19adbd80",
   "metadata": {
    "tags": []
   },
   "outputs": [
    {
     "data": {
      "text/markdown": [
       " Hello $CFC_{sl}$"
      ],
      "text/plain": [
       "<IPython.core.display.Markdown object>"
      ]
     },
     "metadata": {},
     "output_type": "display_data"
    }
   ],
   "source": [
    "Markdown(\"\"\" Hello $F_{cr}$\"\"\")\n",
    "display(Markdown(f\"\"\" Hello $CFC_{{sl}}$\"\"\"))\n"
   ]
  },
  {
   "cell_type": "code",
   "execution_count": 4,
   "id": "bc7563f3-209b-4085-ad84-d570b2a91808",
   "metadata": {
    "tags": []
   },
   "outputs": [],
   "source": [
    "# Input parameters\n",
    "F_Ed_val = 1415  # OK\n",
    "t_w_val = 15e-3  # OK\n",
    "h_w_val = 270e-3  # OK\n",
    "b_f_val = 300e-3  # OK\n",
    "f_yf_val = 355e3  # OK\n",
    "t_f_val = 30e-3  # OK\n",
    "f_yw_val = 355e3  # OK\n",
    "gamma_M1_val = 1.1  # OK\n",
    "E_val = 200e6  # OK\n",
    "s_s_val = 300e-3  # OK\n",
    "a_val = 1185e-3  # OK\n",
    "c_val = 0.9\n",
    "db={'F_Ed':F_Ed_val, 't_w': t_w_val, 'h_w': h_w_val, 'b_f':b_f_val,\n",
    "\t\"f_yf\": f_yf_val, \"t_f\":t_f_val, \"f_yw\":f_yw_val, \"gamma_M1\": gamma_M1_val,\n",
    "\t\"E\":E_val, \"s_s\":s_s_val, \"a\":a_val, \"c\":c_val}\n",
    "Types=[\"A\",\"B\",\"C\"]\n"
   ]
  },
  {
   "cell_type": "code",
   "execution_count": 5,
   "id": "f2091d32-215b-4f72-9ec8-97eadd471410",
   "metadata": {
    "tags": []
   },
   "outputs": [],
   "source": [
    "\n",
    "Type= \"C\"\n"
   ]
  },
  {
   "cell_type": "code",
   "execution_count": 6,
   "id": "87a257f5-f2c0-41ea-8da4-5fac4e70785e",
   "metadata": {
    "tags": []
   },
   "outputs": [
    {
     "data": {
      "text/markdown": [
       "Type=C"
      ],
      "text/plain": [
       "<IPython.core.display.Markdown object>"
      ]
     },
     "metadata": {},
     "output_type": "display_data"
    },
    {
     "data": {
      "text/markdown": [
       "The $k_F$ should be obtained:"
      ],
      "text/plain": [
       "<IPython.core.display.Markdown object>"
      ]
     },
     "metadata": {},
     "output_type": "display_data"
    },
    {
     "data": {
      "image/png": "[encoded data removed]",
      "text/latex": [
       "$\\displaystyle k_{F} = 6 + \\frac{2 \\left(c + s_{s}\\right)^{2}}{h_{w}^{2}}$"
      ],
      "text/plain": [
       "                    2\n",
       "          2⋅(c + sₛ) \n",
       "k_F = 6 + ───────────\n",
       "                 2   \n",
       "              h_w    "
      ]
     },
     "metadata": {},
     "output_type": "display_data"
    },
    {
     "data": {
      "image/png": "[encoded data removed]",
      "text/latex": [
       "$\\displaystyle k_{F} = 6 + 2 \\cdot 0.27^{-2} \\left(0.3 + 0.9\\right)^{2}$"
      ],
      "text/plain": [
       "                -2            2\n",
       "k_F = 6 + 2⋅0.27  ⋅(0.3 + 0.9) "
      ]
     },
     "metadata": {},
     "output_type": "display_data"
    },
    {
     "data": {
      "image/png": "[encoded data removed]",
      "text/latex": [
       "$\\displaystyle k_{F} = 45.5$"
      ],
      "text/plain": [
       "k_F = 45.5"
      ]
     },
     "metadata": {},
     "output_type": "display_data"
    },
    {
     "data": {
      "text/markdown": [
       "Calculate the $F_{{cr}}$:"
      ],
      "text/plain": [
       "<IPython.core.display.Markdown object>"
      ]
     },
     "metadata": {},
     "output_type": "display_data"
    },
    {
     "data": {
      "image/png": "[encoded data removed]",
      "text/latex": [
       "$\\displaystyle F_{cr} = \\frac{0.9 E k_{F} t_{w}^{3}}{h_{w}}$"
      ],
      "text/plain": [
       "                    3\n",
       "       0.9⋅E⋅k_F⋅t_w \n",
       "F_cr = ──────────────\n",
       "            h_w      "
      ]
     },
     "metadata": {},
     "output_type": "display_data"
    },
    {
     "data": {
      "image/png": "[encoded data removed]",
      "text/latex": [
       "$\\displaystyle F_{cr} = 0.9 \\cdot 0.015^{3} \\cdot 45.5 \\cdot 0.27^{-1} \\cdot 200000000.0$"
      ],
      "text/plain": [
       "                3          -1            \n",
       "F_cr = 0.9⋅0.015 ⋅45.5⋅0.27  ⋅200000000.0"
      ]
     },
     "metadata": {},
     "output_type": "display_data"
    },
    {
     "data": {
      "image/png": "[encoded data removed]",
      "text/latex": [
       "$\\displaystyle F_{cr} = 1.02 \\cdot 10^{5}$"
      ],
      "text/plain": [
       "F_cr = 1.02e+5"
      ]
     },
     "metadata": {},
     "output_type": "display_data"
    },
    {
     "data": {
      "text/markdown": [
       "Calculate $m_1$"
      ],
      "text/plain": [
       "<IPython.core.display.Markdown object>"
      ]
     },
     "metadata": {},
     "output_type": "display_data"
    },
    {
     "data": {
      "image/png": "[encoded data removed]",
      "text/latex": [
       "$\\displaystyle m_{1} = \\frac{b_{f} f_{yf}}{f_{yw} t_{w}}$"
      ],
      "text/plain": [
       "     b_f⋅f_yf\n",
       "m₁ = ────────\n",
       "     f_yw⋅t_w"
      ]
     },
     "metadata": {},
     "output_type": "display_data"
    },
    {
     "data": {
      "image/png": "[encoded data removed]",
      "text/latex": [
       "$\\displaystyle m_{1} = 0.015^{-1} \\cdot 0.3$"
      ],
      "text/plain": [
       "          -1    \n",
       "m₁ = 0.015  ⋅0.3"
      ]
     },
     "metadata": {},
     "output_type": "display_data"
    },
    {
     "data": {
      "image/png": "[encoded data removed]",
      "text/latex": [
       "$\\displaystyle m_{1} = 20.0$"
      ],
      "text/plain": [
       "m₁ = 20.0"
      ]
     },
     "metadata": {},
     "output_type": "display_data"
    },
    {
     "data": {
      "text/markdown": [
       "Calculate $m_2$"
      ],
      "text/plain": [
       "<IPython.core.display.Markdown object>"
      ]
     },
     "metadata": {},
     "output_type": "display_data"
    },
    {
     "data": {
      "image/png": "[encoded data removed]",
      "text/latex": [
       "$\\displaystyle m_{2} = \\frac{0.02 h_{w}^{2}}{t_{f}^{2}}$"
      ],
      "text/plain": [
       "             2\n",
       "     0.02⋅h_w \n",
       "m₂ = ─────────\n",
       "           2  \n",
       "        t_f   "
      ]
     },
     "metadata": {},
     "output_type": "display_data"
    },
    {
     "data": {
      "image/png": "[encoded data removed]",
      "text/latex": [
       "$\\displaystyle m_{2} = 0.02 \\cdot 0.03^{-2} \\cdot 0.27^{2}$"
      ],
      "text/plain": [
       "              -2     2\n",
       "m₂ = 0.02⋅0.03  ⋅0.27 "
      ]
     },
     "metadata": {},
     "output_type": "display_data"
    },
    {
     "data": {
      "image/png": "[encoded data removed]",
      "text/latex": [
       "$\\displaystyle m_{2} = 1.62$"
      ],
      "text/plain": [
       "m₂ = 1.62"
      ]
     },
     "metadata": {},
     "output_type": "display_data"
    },
    {
     "data": {
      "text/markdown": [
       "For type C $ℓ_e$ should be taken as  "
      ],
      "text/plain": [
       "<IPython.core.display.Markdown object>"
      ]
     },
     "metadata": {},
     "output_type": "display_data"
    },
    {
     "data": {
      "image/png": "[encoded data removed]",
      "text/latex": [
       "$\\displaystyle l_{e} = \\frac{E k_{F} t_{w}^{2}}{2 f_{yw} h_{w}}$"
      ],
      "text/plain": [
       "              2\n",
       "     E⋅k_F⋅t_w \n",
       "lₑ = ──────────\n",
       "     2⋅f_yw⋅h_w"
      ]
     },
     "metadata": {},
     "output_type": "display_data"
    },
    {
     "data": {
      "image/png": "[encoded data removed]",
      "text/latex": [
       "$\\displaystyle l_{e} = \\frac{0.015^{2} \\cdot 45.5 \\cdot 0.27^{-1} \\cdot 355000.0^{-1} \\cdot 200000000.0}{2}$"
      ],
      "text/plain": [
       "          2          -1         -1            \n",
       "     0.015 ⋅45.5⋅0.27  ⋅355000.0  ⋅200000000.0\n",
       "lₑ = ─────────────────────────────────────────\n",
       "                         2                    "
      ]
     },
     "metadata": {},
     "output_type": "display_data"
    },
    {
     "data": {
      "image/png": "[encoded data removed]",
      "text/latex": [
       "$\\displaystyle l_{e} = 10.7$"
      ],
      "text/plain": [
       "lₑ = 10.7"
      ]
     },
     "metadata": {},
     "output_type": "display_data"
    },
    {
     "data": {
      "text/markdown": [
       "Calculate $l_y$"
      ],
      "text/plain": [
       "<IPython.core.display.Markdown object>"
      ]
     },
     "metadata": {},
     "output_type": "display_data"
    },
    {
     "data": {
      "image/png": "[encoded data removed]",
      "text/latex": [
       "$\\displaystyle l_{y} = \\min\\left(l_{e} + t_{f} \\sqrt{m_{1} + m_{2}}, l_{e} + t_{f} \\sqrt{\\frac{l_{e}^{2}}{t_{f}^{2}} + \\frac{m_{1}}{2} + m_{2}}\\right)$"
      ],
      "text/plain": [
       "l_y = Min(l_e + t_f*sqrt(m_1 + m_2), l_e + t_f*sqrt(l_e**2/t_f**2 + m_1/2 + m_\n",
       "2))"
      ]
     },
     "metadata": {},
     "output_type": "display_data"
    },
    {
     "data": {
      "image/png": "[encoded data removed]",
      "text/latex": [
       "$\\displaystyle l_{y} = 10.8$"
      ],
      "text/plain": [
       "l_y = 10.8"
      ]
     },
     "metadata": {},
     "output_type": "display_data"
    },
    {
     "data": {
      "text/markdown": [
       "Calculate $F_y$"
      ],
      "text/plain": [
       "<IPython.core.display.Markdown object>"
      ]
     },
     "metadata": {},
     "output_type": "display_data"
    },
    {
     "data": {
      "image/png": "[encoded data removed]",
      "text/latex": [
       "$\\displaystyle F_{y} = f_{yw} l_{y} t_{w}$"
      ],
      "text/plain": [
       "F_y = f_yw⋅l_y⋅t_w"
      ]
     },
     "metadata": {},
     "output_type": "display_data"
    },
    {
     "data": {
      "image/png": "[encoded data removed]",
      "text/latex": [
       "$\\displaystyle F_{y} = 0.015 \\cdot 10.8 \\cdot 355000.0$"
      ],
      "text/plain": [
       "F_y = 0.015⋅10.8⋅355000.0"
      ]
     },
     "metadata": {},
     "output_type": "display_data"
    },
    {
     "data": {
      "image/png": "[encoded data removed]",
      "text/latex": [
       "$\\displaystyle F_{y} = 5.76 \\cdot 10^{4}$"
      ],
      "text/plain": [
       "F_y = 5.76e+4"
      ]
     },
     "metadata": {},
     "output_type": "display_data"
    },
    {
     "data": {
      "image/png": "[encoded data removed]",
      "text/latex": [
       "$\\displaystyle \\lambda_{F} = \\sqrt{\\frac{f_{yw} l_{y} t_{w}}{F_{cr}}}$"
      ],
      "text/plain": [
       "          ______________\n",
       "         ╱ f_yw⋅l_y⋅t_w \n",
       "λ_F =   ╱  ──────────── \n",
       "      ╲╱       F_cr     "
      ]
     },
     "metadata": {},
     "output_type": "display_data"
    },
    {
     "data": {
      "text/latex": [
       "$\\displaystyle \\lambda_{F} = \\sqrt{0.015 \\cdot 10.8 \\cdot 355000.0 \\cdot 1.02 \\cdot 10^{5}^{-1}}$"
      ],
      "text/plain": [
       "                                     1/2\n",
       "      ⎛                           -1⎞   \n",
       "λ_F = ⎝0.015⋅10.8⋅355000.0⋅1.02e+5  ⎠   "
      ]
     },
     "metadata": {},
     "output_type": "display_data"
    },
    {
     "data": {
      "image/png": "[encoded data removed]",
      "text/latex": [
       "$\\displaystyle \\lambda_{F} = 0.75$"
      ],
      "text/plain": [
       "λ_F = 0.75"
      ]
     },
     "metadata": {},
     "output_type": "display_data"
    },
    {
     "data": {
      "text/markdown": [
       "Calculate $\\chi_F$:"
      ],
      "text/plain": [
       "<IPython.core.display.Markdown object>"
      ]
     },
     "metadata": {},
     "output_type": "display_data"
    },
    {
     "data": {
      "image/png": "[encoded data removed]",
      "text/latex": [
       "$\\displaystyle \\chi_{F} = \\frac{0.5}{\\lambda_{F}}$"
      ],
      "text/plain": [
       "      0.5\n",
       "χ_F = ───\n",
       "      λ_F"
      ]
     },
     "metadata": {},
     "output_type": "display_data"
    },
    {
     "data": {
      "image/png": "[encoded data removed]",
      "text/latex": [
       "$\\displaystyle \\chi_{F} = 0.5 \\cdot 0.75^{-1}$"
      ],
      "text/plain": [
       "              -1\n",
       "χ_F = 0.5⋅0.75  "
      ]
     },
     "metadata": {},
     "output_type": "display_data"
    },
    {
     "data": {
      "image/png": "[encoded data removed]",
      "text/latex": [
       "$\\displaystyle \\chi_{F} = 0.667$"
      ],
      "text/plain": [
       "χ_F = 0.667"
      ]
     },
     "metadata": {},
     "output_type": "display_data"
    },
    {
     "data": {
      "text/markdown": [
       "Calculate $F_{Rd}$:"
      ],
      "text/plain": [
       "<IPython.core.display.Markdown object>"
      ]
     },
     "metadata": {},
     "output_type": "display_data"
    },
    {
     "data": {
      "image/png": "[encoded data removed]",
      "text/latex": [
       "$\\displaystyle F_{Rd} = \\frac{F_{y} \\chi_{F}}{\\gamma_{M1}}$"
      ],
      "text/plain": [
       "       F_y⋅χ_F\n",
       "F_Rd = ───────\n",
       "         γ_M1 "
      ]
     },
     "metadata": {},
     "output_type": "display_data"
    },
    {
     "data": {
      "image/png": "[encoded data removed]",
      "text/latex": [
       "$\\displaystyle F_{Rd} = 1.1^{-1} \\cdot 0.667 \\cdot 5.76 \\cdot 10^{4}$"
      ],
      "text/plain": [
       "          -1              \n",
       "F_Rd = 1.1  ⋅0.667⋅5.76e+4"
      ]
     },
     "metadata": {},
     "output_type": "display_data"
    },
    {
     "data": {
      "image/png": "[encoded data removed]",
      "text/latex": [
       "$\\displaystyle F_{Rd} = 3.49 \\cdot 10^{4}$"
      ],
      "text/plain": [
       "F_Rd = 3.49e+4"
      ]
     },
     "metadata": {},
     "output_type": "display_data"
    },
    {
     "data": {
      "image/png": "[encoded data removed]",
      "text/latex": [
       "$\\displaystyle \\eta_{2} = \\frac{F_{Ed}}{F_{Rd}}$"
      ],
      "text/plain": [
       "     F_Ed\n",
       "η₂ = ────\n",
       "     F_Rd"
      ]
     },
     "metadata": {},
     "output_type": "display_data"
    },
    {
     "data": {
      "text/latex": [
       "$\\displaystyle \\eta_{2} = 3.49 \\cdot 10^{4}^{-1} \\cdot 1415$"
      ],
      "text/plain": [
       "            -1     \n",
       "η₂ = 3.49e+4  ⋅1415"
      ]
     },
     "metadata": {},
     "output_type": "display_data"
    },
    {
     "data": {
      "image/png": "[encoded data removed]",
      "text/latex": [
       "$\\displaystyle \\eta_{2} = 0.0405$"
      ],
      "text/plain": [
       "η₂ = 0.0405"
      ]
     },
     "metadata": {},
     "output_type": "display_data"
    }
   ],
   "source": [
    "display(Markdown(f\"\"\"Type={Type}\"\"\"))\n",
    "if db['s_s'] < db['a']:\n",
    "    display(Markdown(\"\"\"The $k_F$ should be obtained:\"\"\"))\n",
    "    display(k_F_func(Type))\n",
    "    display(k_F_func(Type,**db))\n",
    "    k_F_val=N(k_F_func(Type,**db).doit(),3)\n",
    "    display(k_F_val)\n",
    "    db['k_F']=k_F_val.rhs\n",
    "    \n",
    "    #F_cr\n",
    "    display(Markdown(\"\"\"Calculate the $F_{{cr}}$:\"\"\"))\n",
    "    display(F_cr_func(Type))\n",
    "    display(F_cr_func(Type,**db))\n",
    "    F_cr_val=N(F_cr_func(Type,**db).doit(),3)\n",
    "    display(F_cr_val)\n",
    "    db['F_cr']=F_cr_val.rhs\n",
    "    if db['F_cr'] < db['F_Ed']:\n",
    "        display(Markdown(f\"\"\" $F_{{cr}}$={db['F_cr']} < $F_{{Ed}}$={db['F_Ed']}. FIN! La estructura no cumple frente a patch loading\"\"\"))\n",
    "    else:\n",
    "        display(Markdown(\"\"\"Calculate $m_1$\"\"\"))\n",
    "        display(m_1_func(Type))\n",
    "        display(m_1_func(Type,**db))\n",
    "        m_1_val=N(m_1_func(Type,**db).doit(),3)\n",
    "        display(m_1_val)\n",
    "        db['m_1']=m_1_val.rhs\n",
    "        \n",
    "        display(Markdown(f\"\"\"Calculate $m_2$\"\"\"))\n",
    "        display(m_2_func(Type))\n",
    "        display(m_2_func(Type,**db))\n",
    "        m_2_val=N(m_2_func(Type,**db).doit(),3)\n",
    "        display(m_2_val)\n",
    "        db['m_2']=m_2_val.rhs\n",
    "        \n",
    "        if Type==\"C\":\n",
    "            display(Markdown(f\"\"\"For type C $ℓ_e$ should be taken as  \"\"\"))\n",
    "            display(l_e_func(Type))\n",
    "            display(l_e_func(Type,**db))\n",
    "            l_e_val=N(l_e_func(Type,**db).doit(),3)\n",
    "            display(l_e_val)\n",
    "            db['l_e']=l_e_val.rhs\n",
    "        display(Markdown(\"\"\"Calculate $l_y$\"\"\"))\n",
    "        display(l_y_func(Type))\n",
    "        #display(l_y_func(Type,**db))\n",
    "        l_y_val=N(l_y_func(Type,**db).doit(),3)\n",
    "        display(l_y_val)\n",
    "        db['l_y']=l_y_val.rhs\n",
    "        display(Markdown(f\"\"\"Calculate $F_y$\"\"\"))\n",
    "        display(F_y_func(Type))\n",
    "        display(F_y_func(Type,**db))\n",
    "        F_y_val=N(F_y_func(Type,**db).doit(),3)\n",
    "        display(F_y_val)\n",
    "        db['F_y']=F_y_val.rhs\n",
    "        if db['F_y'] < db['F_Ed']:\n",
    "            display(Markdown(f\"\"\"$F_y=${db['F_y']} < $F_Ed=${db['F_Ed']}. FIN! La estructura no cumple frente a patch loading\"\"\"))\n",
    "\n",
    "        display(lambda_F_func(Type))\n",
    "        display(lambda_F_func(Type,**db))\n",
    "        lambda_F_val=N(lambda_F_func(Type,**db).doit(),3)\n",
    "        display(lambda_F_val)\n",
    "        db['lambda_F']=lambda_F_val.rhs\n",
    "        \n",
    "        if db['lambda_F']<=0.5:\n",
    "            display(Markdown(f\"\"\"In this case $\\lambda_F=${db['lambda_F']} $< 0.5$, we need to recalculate $m_2=0$\"\"\"))\n",
    "            del db['m_2']\n",
    "            if 'l_e' in db.keys():\n",
    "                del db['l_e']\n",
    "            del db['l_y']\n",
    "            del db['F_y']\n",
    "            del db['lambda_F']\n",
    "            display(Eq(m_2,0))\n",
    "            db['m_2']=0\n",
    "            if Type==\"C\":\n",
    "                display(l_e_func(Type))\n",
    "                display(l_e_func(Type,**db))\n",
    "                l_e_val=N(l_e_func(Type,**db).doit(),3)\n",
    "                display(l_e_val)\n",
    "                db['l_e']=l_e_val.rhs\n",
    "\n",
    "            display(l_y_func(Type))\n",
    "            #display(l_y_func(Type,**db))\n",
    "            l_y_val=N(l_y_func(Type,**db).doit(),3)\n",
    "            display(l_y_val)\n",
    "            db['l_y']=l_y_val.rhs\n",
    "\n",
    "            display(F_y_func(Type))\n",
    "            #display(F_y_func(Type,**db))\n",
    "            F_y_val=N(F_y_func(Type,**db).doit(),3)\n",
    "            display(F_y_val)\n",
    "            db['F_y']=F_y_val.rhs\n",
    "            if db['F_y'] < db['F_Ed']:\n",
    "                display(Markdown(f\"\"\"$F_y=${db['F_y']} < $F_{{Ed}}=${db['F_Ed']}. FIN! La estructura no cumple frente a patch loading\"\"\"))\n",
    "\n",
    "            display(lambda_F_func(Type))\n",
    "           #display(lambda_F_func(Type,**db))\n",
    "            lambda_F_val=N(lambda_F_func(Type,**db).doit(),3)\n",
    "            display(lambda_F_val)\n",
    "            db['lambda_F']=lambda_F_val.rhs\n",
    "            if db['lambda_F']<=0.5:\n",
    "                display(Markdown(f\"\"\"In this case $m_2=0$,  $\\lambda_F=${db['lambda_F']} $< 0.5$, does not satisfy the condition\"\"\"))\n",
    "            else:\n",
    "                display(Markdown(f\"\"\"Calculate $\\chi_F$:\"\"\"))\n",
    "                display(chi_F_func(Type))\n",
    "                display(chi_F_func(Type,**db))\n",
    "                chi_F_val=N(chi_F_func(Type,**db).doit(),3)\n",
    "                display(chi_F_val)\n",
    "                db['chi_F']=chi_F_val.rhs\n",
    "                \n",
    "                display(Markdown(f\"\"\"Calculate $F_{{Rd}}$:\"\"\"))\n",
    "                display(F_Rd_func(Type))\n",
    "                display(F_Rd_func(Type,**db))\n",
    "                F_Rd_val=N(F_Rd_func(Type,**db).doit(),3)\n",
    "                display(F_Rd_val)\n",
    "                db['F_Rd']=F_Rd_val.rhs\n",
    "                if db['F_Rd']<db['F_Ed']:\n",
    "                    display(Markdown( f\"\"\"$F_{{Rd}}$={db['F_Rd']}<$F_{{Ed}}=${db['F_Ed']}. FIN! La estructura no cumple frente a patch loading\"\"\"))\n",
    "                else:\n",
    "                    print(f\"Calculate $\\eta_2$ \")\n",
    "                    display(eta_2_func(Type))\n",
    "                    display(eta_2_func(Type,**db))\n",
    "                    eta_2_val=N(eta_2_func(Type,**db).doit(),3)\n",
    "                    display(eta_2_val)\n",
    "                    db['eta_2']=eta_2_val.rhs      \n",
    "\n",
    "        else:\n",
    "            display(Markdown(f\"\"\"Calculate $\\chi_F$:\"\"\"))\n",
    "            display(chi_F_func(Type))\n",
    "            display(chi_F_func(Type,**db))\n",
    "            chi_F_val=N(chi_F_func(Type,**db).doit(),3)\n",
    "            display(chi_F_val)\n",
    "            db['chi_F']=chi_F_val.rhs\n",
    "\n",
    "            display(Markdown(f\"\"\"Calculate $F_{{Rd}}$:\"\"\"))\n",
    "            display(F_Rd_func(Type))\n",
    "            display(F_Rd_func(Type,**db))\n",
    "            F_Rd_val=N(F_Rd_func(Type,**db).doit(),3)\n",
    "            display(F_Rd_val)\n",
    "            db['F_Rd']=F_Rd_val.rhs\n",
    "\n",
    "\n",
    "            if db['F_Rd']<db['F_Ed']:\n",
    "                display(Markdown( f\"\"\"$F_{{Rd}}$={db['F_Rd']}<$F_{{Ed}}=${db['F_Ed']}. FIN! La estructura no cumple frente a patch loading\"\"\"))\n",
    "\n",
    "\n",
    "            display(eta_2_func(Type))\n",
    "            display(eta_2_func(Type,**db))\n",
    "            eta_2_val=N(eta_2_func(Type,**db).doit(),3)\n",
    "            display(eta_2_val)\n",
    "            db['eta_2']=eta_2_val.rhs\n",
    "else:\n",
    "     display(Markdown(f\"\"\"FIN! La estructura no cumple frente a patch loading\"\"\"))\n",
    "    \n",
    "    "
   ]
  },
  {
   "cell_type": "code",
   "execution_count": 7,
   "id": "727a212d-1add-4e52-a00b-a6147c0401e5",
   "metadata": {
    "tags": []
   },
   "outputs": [
    {
     "ename": "ModuleNotFoundError",
     "evalue": "No module named 'latex'",
     "output_type": "error",
     "traceback": [
      "\u001b[1;31m---------------------------------------------------------------------------\u001b[0m",
      "\u001b[1;31mModuleNotFoundError\u001b[0m                       Traceback (most recent call last)",
      "Cell \u001b[1;32mIn[7], line 1\u001b[0m\n\u001b[1;32m----> 1\u001b[0m \u001b[38;5;28;01mimport\u001b[39;00m \u001b[38;5;21;01mlatex\u001b[39;00m\n",
      "\u001b[1;31mModuleNotFoundError\u001b[0m: No module named 'latex'"
     ]
    }
   ],
   "source": [
    "import latex"
   ]
  },
  {
   "cell_type": "code",
   "execution_count": null,
   "id": "a1aa353a-1d6d-4cc4-bd57-c979f789c63c",
   "metadata": {},
   "outputs": [],
   "source": [
    "latex_expr=r\"\\lambda_{F} = \\sqrt{2623.0 \\cdot 1.373 \\cdot 10^{4}^{-1}}\""
   ]
  },
  {
   "cell_type": "code",
   "execution_count": null,
   "id": "8229866c-bd47-4a21-b186-fddc44236b40",
   "metadata": {
    "tags": []
   },
   "outputs": [],
   "source": [
    "latex(latex_expr)"
   ]
  },
  {
   "cell_type": "code",
   "execution_count": null,
   "id": "0941bc33-6658-445b-a761-88fb787bad3e",
   "metadata": {},
   "outputs": [],
   "source": []
  },
  {
   "cell_type": "code",
   "execution_count": null,
   "id": "bf8c928f-40dd-4240-b6ed-2e7780461a81",
   "metadata": {
    "tags": []
   },
   "outputs": [],
   "source": [
    "from sympy import *\n",
    "\n",
    "# Define symbolic variables\n",
    "x, y = symbols('x y')\n",
    "\n",
    "# Define a symbolic expression with a fraction\n",
    "expression = sqrt(x / y)\n",
    "\n",
    "# Substitute values into the expression\n",
    "#substituted_expression = expression.subs({UnevaluatedExpr(x): 3e3, UnevaluatedExpr(y):2e2 })\n",
    "substituted_expression = expression.subs({x: 3e3 })\n",
    "\n",
    "# Simplify the expression using ratsimp\n",
    "rational_expression = ratsimp(substituted_expression)\n",
    "\n",
    "# Display the results\n",
    "display(expression)\n",
    "display(substituted_expression)\n",
    "display(rational_expression)\n"
   ]
  },
  {
   "cell_type": "code",
   "execution_count": 36,
   "id": "c20a0bb4-722e-4c63-af8a-584915ac4130",
   "metadata": {
    "tags": []
   },
   "outputs": [],
   "source": [
    "F_y=symbols('F_y') \n",
    "F_cr=symbols('F_cr')"
   ]
  },
  {
   "cell_type": "code",
   "execution_count": 56,
   "id": "2084259c-70b1-40cf-9738-1176517b0e84",
   "metadata": {
    "tags": []
   },
   "outputs": [],
   "source": [
    "def lambda_F_func1(**kwargs):\n",
    "\tkwargs = {eval(key): UnevaluatedExpr(value) for key, value in kwargs.items()}\n",
    "\t#expr= sqrt(F_y)/sqrt(F_cr)\n",
    "\texpr= sqrt(F_y/F_cr)\n",
    "\t#expr= sqrt(Rational(F_y,F_cr))\n",
    "\texpr=expr.subs(kwargs)\n",
    "\t_eq=Eq(lambda_F,expr)\n",
    "\treturn expr"
   ]
  },
  {
   "cell_type": "code",
   "execution_count": null,
   "id": "24d605ad-da05-4c79-ac04-07311e217a30",
   "metadata": {
    "tags": []
   },
   "outputs": [],
   "source": []
  },
  {
   "cell_type": "code",
   "execution_count": 57,
   "id": "583c9c42-77f8-4ed4-a86c-7cdbe42d76e1",
   "metadata": {
    "tags": []
   },
   "outputs": [],
   "source": [
    "\n",
    "db1={'F_cr':1.024*10e5,'F_y':5.751*10e4 }"
   ]
  },
  {
   "cell_type": "code",
   "execution_count": 58,
   "id": "125cd9af-ce79-489f-9a23-733072fdca2f",
   "metadata": {
    "tags": []
   },
   "outputs": [
    {
     "data": {
      "image/png": "[encoded data removed]",
      "text/latex": [
       "$\\displaystyle \\sqrt{\\frac{F_{y}}{F_{cr}}}$"
      ],
      "text/plain": [
       "    ______\n",
       "   ╱ F_y  \n",
       "  ╱  ──── \n",
       "╲╱   F_cr "
      ]
     },
     "metadata": {},
     "output_type": "display_data"
    },
    {
     "data": {
      "image/png": "[encoded data removed]",
      "text/latex": [
       "$\\displaystyle \\sqrt{575100.0 \\cdot 1024000.0^{-1}}$"
      ],
      "text/plain": [
       "                      1/2\n",
       "⎛                  -1⎞   \n",
       "⎝575100.0⋅1024000.0  ⎠   "
      ]
     },
     "metadata": {},
     "output_type": "display_data"
    },
    {
     "data": {
      "image/png": "[encoded data removed]",
      "text/latex": [
       "$\\displaystyle 0.749413833439175$"
      ],
      "text/plain": [
       "0.749413833439175"
      ]
     },
     "metadata": {},
     "output_type": "display_data"
    }
   ],
   "source": [
    "display(lambda_F_func1())\n",
    "display(lambda_F_func1(**db1))\n",
    "display(lambda_F_func1(**db1).doit())"
   ]
  },
  {
   "cell_type": "code",
   "execution_count": null,
   "id": "b9b37a7c-4484-4c36-a261-d54696dfa50d",
   "metadata": {
    "tags": []
   },
   "outputs": [],
   "source": []
  },
  {
   "cell_type": "code",
   "execution_count": 60,
   "id": "369f2e89-1d0b-44d4-a4d6-4feb1aa7be89",
   "metadata": {
    "tags": []
   },
   "outputs": [],
   "source": [
    "jj=lambda_F_func1(**db1)"
   ]
  },
  {
   "cell_type": "code",
   "execution_count": 63,
   "id": "5e50cefa-96b3-41c7-981c-941b3f2b3c9c",
   "metadata": {
    "tags": []
   },
   "outputs": [
    {
     "data": {
      "image/png": "[encoded data removed]",
      "text/latex": [
       "$\\displaystyle 575100.0 \\cdot 1024000.0^{-1}$"
      ],
      "text/plain": [
       "                  -1\n",
       "575100.0⋅1024000.0  "
      ]
     },
     "execution_count": 63,
     "metadata": {},
     "output_type": "execute_result"
    }
   ],
   "source": [
    "jj**2"
   ]
  },
  {
   "cell_type": "code",
   "execution_count": 65,
   "id": "a8ce27aa-a9a5-4124-8a0f-73ed9d6df83f",
   "metadata": {
    "tags": []
   },
   "outputs": [
    {
     "data": {
      "image/png": "[encoded data removed]",
      "text/latex": [
       "$\\displaystyle \\left( 575100.0 \\cdot 1024000.0^{-1}, \\  1\\right)$"
      ],
      "text/plain": [
       "⎛                  -1   ⎞\n",
       "⎝575100.0⋅1024000.0  , 1⎠"
      ]
     },
     "execution_count": 65,
     "metadata": {},
     "output_type": "execute_result"
    }
   ],
   "source": [
    "fraction(jj**2)"
   ]
  },
  {
   "cell_type": "code",
   "execution_count": null,
   "id": "a0174c44-a5f0-440b-9e43-3fc9db6b7799",
   "metadata": {},
   "outputs": [],
   "source": []
  }
 ],
 "metadata": {
  "kernelspec": {
   "display_name": "Python 3 (ipykernel)",
   "language": "python",
   "name": "python3"
  },
  "language_info": {
   "codemirror_mode": {
    "name": "ipython",
    "version": 3
   },
   "file_extension": ".py",
   "mimetype": "text/x-python",
   "name": "python",
   "nbconvert_exporter": "python",
   "pygments_lexer": "ipython3",
   "version": "3.10.9"
  }
 },
 "nbformat": 4,
 "nbformat_minor": 5
}
