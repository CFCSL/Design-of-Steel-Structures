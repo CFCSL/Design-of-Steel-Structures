{
 "cells": [
  {
   "cell_type": "code",
   "execution_count": 1,
   "id": "2f5832e1-fa73-4329-86d0-4b70871c2c06",
   "metadata": {
    "tags": []
   },
   "outputs": [],
   "source": [
    "import numpy as np\n",
    "from sympy import symbols, Eq, Function,UnevaluatedExpr, Mul, Rational, sqrt, Min\n",
    "from sympy import Piecewise, nan, N, And, log\n",
    "from sympy import *\n",
    "from sympy import N\n",
    "init_printing()\n",
    "import matplotlib.pyplot as plt\n",
    "from IPython.display import display, Markdown, Latex, Image\n",
    "from Patch_Loading import *\n",
    "import nbformat\n",
    "from nbconvert import HTMLExporter\n"
   ]
  },
  {
   "cell_type": "code",
   "execution_count": 2,
   "id": "f38a5562-027f-49c5-a204-de1f59087c43",
   "metadata": {
    "tags": []
   },
   "outputs": [],
   "source": [
    "F_Ed, t_w, h_w, b_f, f_yf, t_f, f_yw, gamma_M1, E, s_s, a, c, epsilon, f_y = symbols(\n",
    "\t'F_Ed t_w h_w b_f f_yf t_f f_yw gamma_M1 E s_s a c epsilon f_y')\n",
    "\n",
    "k_F, F_cr, m_1, m_2, l_e, l_y, F_y, lambda_F, chi_F, F_Rd, eta_2=symbols('k_F  F_cr  m_1  m_2  l_e  l_y  F_y  lambda_F  chi_F  F_Rd  eta_2')\n"
   ]
  },
  {
   "cell_type": "code",
   "execution_count": null,
   "id": "1c18e288-1207-4b4c-ac23-576e19adbd80",
   "metadata": {
    "tags": []
   },
   "outputs": [],
   "source": []
  },
  {
   "cell_type": "code",
   "execution_count": 3,
   "id": "bc7563f3-209b-4085-ad84-d570b2a91808",
   "metadata": {
    "tags": []
   },
   "outputs": [],
   "source": [
    "# Input parameters\n",
    "F_Ed_val = 1415  # OK\n",
    "t_w_val = 15e-3  # OK\n",
    "h_w_val = 270e-3  # OK\n",
    "b_f_val = 300e-3  # OK\n",
    "f_yf_val = 355e3  # OK\n",
    "t_f_val = 30e-3  # OK\n",
    "f_yw_val = 355e3  # OK\n",
    "gamma_M1_val = 1.1  # OK\n",
    "E_val = 200e6  # OK\n",
    "s_s_val = 300e-3  # OK\n",
    "a_val = 1185e-3  # OK\n",
    "c_val = 0.9\n",
    "db={'F_Ed':F_Ed_val, 't_w': t_w_val, 'h_w': h_w_val, 'b_f':b_f_val,\n",
    "\t\"f_yf\": f_yf_val, \"t_f\":t_f_val, \"f_yw\":f_yw_val, \"gamma_M1\": gamma_M1_val,\n",
    "\t\"E\":E_val, \"s_s\":s_s_val, \"a\":a_val, \"c\":c_val}\n",
    "Types=[\"A\",\"B\",\"C\"]\n"
   ]
  },
  {
   "cell_type": "code",
   "execution_count": 4,
   "id": "f2091d32-215b-4f72-9ec8-97eadd471410",
   "metadata": {
    "tags": []
   },
   "outputs": [],
   "source": [
    "\n",
    "Type= \"A\"\n"
   ]
  },
  {
   "cell_type": "code",
   "execution_count": 5,
   "id": "b86465cd-5e70-45fb-8a82-27a0a2280dca",
   "metadata": {
    "tags": []
   },
   "outputs": [
    {
     "data": {
      "text/markdown": [
       "**Data:**\n",
       "\n",
       "Type of loading application: A\n",
       "    \n",
       "Design transverse force: $F_{Ed} =1415 [kN]$\n",
       "\n",
       "Thickness of the plate: $t_w=0.015 [m]$\n",
       " \n",
       "Clear web depth between flanges: $h_w=0.27 [m]$\n",
       "\n",
       "Flange width: $b_f=0.3 [m]$\n",
       "\n",
       "The yield strength of the web: $f_{yf}=355000.0 [kN/m^2]$\n",
       "\n",
       "Flange thickness: $t_f=0.03 [m]$\n",
       "\n",
       "The yield strength of the web: $f_{yw}=355000.0 [kN/m^2]$\n",
       "\n",
       "Security coeficient(recommended 1.1 ): $\\gamma_{M1}=1.1$\n",
       "\n",
       "Elasticity module (recommended $200e6[kN/m^2])$: E=200000000.0 [kN/m^2]$\n",
       "\n",
       "Longitudinal width of the load: $s_s=0.3 [m]$\n",
       "\n",
       "Length of a stiffened or unstiffened plate: $a=1.185 [m]$\n",
       "\n",
       "Distance (utilized exclusively when type C presented, see Figure 6.1): $c=0.9 [m]$\n",
       "    \n"
      ],
      "text/plain": [
       "<IPython.core.display.Markdown object>"
      ]
     },
     "metadata": {},
     "output_type": "display_data"
    }
   ],
   "source": [
    "display(Markdown(f\"\"\"**Data:**\n",
    "\n",
    "Type of loading application: {Type}\n",
    "    \n",
    "Design transverse force: $F_{{Ed}} ={F_Ed_val} [kN]$\n",
    "\n",
    "Thickness of the plate: $t_w={t_w_val} [m]$\n",
    " \n",
    "Clear web depth between flanges: $h_w={h_w_val} [m]$\n",
    "\n",
    "Flange width: $b_f={b_f_val} [m]$\n",
    "\n",
    "The yield strength of the web: $f_{{yf}}={f_yf_val} [kN/m^2]$\n",
    "\n",
    "Flange thickness: $t_f={t_f_val} [m]$\n",
    "\n",
    "The yield strength of the web: $f_{{yw}}={f_yw_val} [kN/m^2]$\n",
    "\n",
    "Security coeficient(recommended 1.1 ): $\\gamma_{{M1}}={gamma_M1_val}$\n",
    "\n",
    "Elasticity module (recommended $200e6[kN/m^2])$: E={E_val} [kN/m^2]$\n",
    "\n",
    "Longitudinal width of the load: $s_s={s_s_val} [m]$\n",
    "\n",
    "Length of a stiffened or unstiffened plate: $a={a_val} [m]$\n",
    "\n",
    "Distance (utilized exclusively when type C presented, see Figure 6.1): $c={c_val} [m]$\n",
    "    \n",
    "\"\"\"))"
   ]
  },
  {
   "cell_type": "code",
   "execution_count": 6,
   "id": "74abbb53-6124-421d-8318-b85e63d65767",
   "metadata": {
    "tags": []
   },
   "outputs": [
    {
     "data": {
      "text/markdown": [
       "Calculation of Buckling coefficient using Figure 6.1 \"Buckling coefficients for different types of load application\" from article 6.1 basis"
      ],
      "text/plain": [
       "<IPython.core.display.Markdown object>"
      ]
     },
     "metadata": {},
     "output_type": "display_data"
    },
    {
     "data": {
      "image/png": "[encoded data removed]",
      "text/latex": [
       "$\\displaystyle k_{F} = 6 + \\frac{2 h_{w}^{2}}{a^{2}}$"
      ],
      "text/plain": [
       "               2\n",
       "          2⋅h_w \n",
       "k_F = 6 + ──────\n",
       "             2  \n",
       "            a   "
      ]
     },
     "metadata": {},
     "output_type": "display_data"
    },
    {
     "data": {
      "image/png": "[encoded data removed]",
      "text/latex": [
       "$\\displaystyle k_{F} = 6 + 2 \\cdot 0.27^{2} \\cdot 1.185^{-2}$"
      ],
      "text/plain": [
       "                2      -2\n",
       "k_F = 6 + 2⋅0.27 ⋅1.185  "
      ]
     },
     "metadata": {},
     "output_type": "display_data"
    },
    {
     "data": {
      "image/png": "[encoded data removed]",
      "text/latex": [
       "$\\displaystyle k_{F} = 6.104$"
      ],
      "text/plain": [
       "k_F = 6.104"
      ]
     },
     "metadata": {},
     "output_type": "display_data"
    },
    {
     "data": {
      "text/markdown": [
       "Calculation of critical force using expression (6.5) from article 6.4 \"Reduction factor $\\chi_F$ for effective length for resistance\" "
      ],
      "text/plain": [
       "<IPython.core.display.Markdown object>"
      ]
     },
     "metadata": {},
     "output_type": "display_data"
    },
    {
     "data": {
      "image/png": "[encoded data removed]",
      "text/latex": [
       "$\\displaystyle F_{cr} = \\frac{0.9 E k_{F} t_{w}^{3}}{h_{w}}$"
      ],
      "text/plain": [
       "                    3\n",
       "       0.9⋅E⋅k_F⋅t_w \n",
       "F_cr = ──────────────\n",
       "            h_w      "
      ]
     },
     "metadata": {},
     "output_type": "display_data"
    },
    {
     "data": {
      "image/png": "[encoded data removed]",
      "text/latex": [
       "$\\displaystyle F_{cr} = 0.9 \\cdot 0.015^{3} \\cdot 6.104 \\cdot 0.27^{-1} \\cdot 200000000.0$"
      ],
      "text/plain": [
       "                3           -1            \n",
       "F_cr = 0.9⋅0.015 ⋅6.104⋅0.27  ⋅200000000.0"
      ]
     },
     "metadata": {},
     "output_type": "display_data"
    },
    {
     "data": {
      "text/markdown": [
       "$F_{cr}=13733.60 [kN]$"
      ],
      "text/plain": [
       "<IPython.core.display.Markdown object>"
      ]
     },
     "metadata": {},
     "output_type": "display_data"
    },
    {
     "data": {
      "text/markdown": [
       "Using expression (6.8) from article 6.5 \"Effective loaded length\", calculate $m_1$"
      ],
      "text/plain": [
       "<IPython.core.display.Markdown object>"
      ]
     },
     "metadata": {},
     "output_type": "display_data"
    },
    {
     "data": {
      "image/png": "[encoded data removed]",
      "text/latex": [
       "$\\displaystyle m_{1} = \\frac{b_{f} f_{yf}}{f_{yw} t_{w}}$"
      ],
      "text/plain": [
       "     b_f⋅f_yf\n",
       "m₁ = ────────\n",
       "     f_yw⋅t_w"
      ]
     },
     "metadata": {},
     "output_type": "display_data"
    },
    {
     "data": {
      "image/png": "[encoded data removed]",
      "text/latex": [
       "$\\displaystyle m_{1} = 0.015^{-1} \\cdot 0.3$"
      ],
      "text/plain": [
       "          -1    \n",
       "m₁ = 0.015  ⋅0.3"
      ]
     },
     "metadata": {},
     "output_type": "display_data"
    },
    {
     "data": {
      "text/markdown": [
       "$m_{1}=20.00 [m]$"
      ],
      "text/plain": [
       "<IPython.core.display.Markdown object>"
      ]
     },
     "metadata": {},
     "output_type": "display_data"
    },
    {
     "data": {
      "text/markdown": [
       "Using expression (6.9) from article 6.5 \"Effective loaded length\", calculate $m_2$"
      ],
      "text/plain": [
       "<IPython.core.display.Markdown object>"
      ]
     },
     "metadata": {},
     "output_type": "display_data"
    },
    {
     "data": {
      "image/png": "[encoded data removed]",
      "text/latex": [
       "$\\displaystyle m_{2} = \\frac{0.02 h_{w}^{2}}{t_{f}^{2}}$"
      ],
      "text/plain": [
       "             2\n",
       "     0.02⋅h_w \n",
       "m₂ = ─────────\n",
       "           2  \n",
       "        t_f   "
      ]
     },
     "metadata": {},
     "output_type": "display_data"
    },
    {
     "data": {
      "image/png": "[encoded data removed]",
      "text/latex": [
       "$\\displaystyle m_{2} = 0.02 \\cdot 0.03^{-2} \\cdot 0.27^{2}$"
      ],
      "text/plain": [
       "              -2     2\n",
       "m₂ = 0.02⋅0.03  ⋅0.27 "
      ]
     },
     "metadata": {},
     "output_type": "display_data"
    },
    {
     "data": {
      "text/markdown": [
       "$m_{2}=1.620 [m]$"
      ],
      "text/plain": [
       "<IPython.core.display.Markdown object>"
      ]
     },
     "metadata": {},
     "output_type": "display_data"
    },
    {
     "data": {
      "text/markdown": [
       "Using expression (6.10) from article 6.5 \"Effective loaded length\", calculate $l_y$"
      ],
      "text/plain": [
       "<IPython.core.display.Markdown object>"
      ]
     },
     "metadata": {},
     "output_type": "display_data"
    },
    {
     "data": {
      "image/png": "[encoded data removed]",
      "text/latex": [
       "$\\displaystyle l_{y} = s_{s} + 2 t_{f} \\left(\\sqrt{m_{1} + m_{2}} + 1\\right)$"
      ],
      "text/plain": [
       "                 ⎛  _________    ⎞\n",
       "l_y = sₛ + 2⋅t_f⋅⎝╲╱ m₁ + m₂  + 1⎠"
      ]
     },
     "metadata": {},
     "output_type": "display_data"
    },
    {
     "data": {
      "text/markdown": [
       "$l_{y}=0.6390 [m]$"
      ],
      "text/plain": [
       "<IPython.core.display.Markdown object>"
      ]
     },
     "metadata": {},
     "output_type": "display_data"
    },
    {
     "data": {
      "text/markdown": [
       "$l_y=$0.6390 $<$ $a=$ 1.185 satisfies the condition $l_y<a$"
      ],
      "text/plain": [
       "<IPython.core.display.Markdown object>"
      ]
     },
     "metadata": {},
     "output_type": "display_data"
    },
    {
     "data": {
      "text/markdown": [
       "Calculation of plastic web yielding mechanism, $F_y$, for non dimensional slenderness "
      ],
      "text/plain": [
       "<IPython.core.display.Markdown object>"
      ]
     },
     "metadata": {},
     "output_type": "display_data"
    },
    {
     "data": {
      "image/png": "[encoded data removed]",
      "text/latex": [
       "$\\displaystyle F_{y} = f_{yw} l_{y} t_{w}$"
      ],
      "text/plain": [
       "F_y = f_yw⋅l_y⋅t_w"
      ]
     },
     "metadata": {},
     "output_type": "display_data"
    },
    {
     "data": {
      "image/png": "[encoded data removed]",
      "text/latex": [
       "$\\displaystyle F_{y} = 0.015 \\cdot 0.639 \\cdot 355000.0$"
      ],
      "text/plain": [
       "F_y = 0.015⋅0.639⋅355000.0"
      ]
     },
     "metadata": {},
     "output_type": "display_data"
    },
    {
     "data": {
      "text/markdown": [
       "$F_{y}=3402.55 [KN]$"
      ],
      "text/plain": [
       "<IPython.core.display.Markdown object>"
      ]
     },
     "metadata": {},
     "output_type": "display_data"
    },
    {
     "data": {
      "text/markdown": [
       "Calculation of $\\lambda_F$, non dimensional slenderness using modification of expression (6.4) from article 6.4 \"Reduction factor $\\chi_F$ for efective lenght for resistance\" "
      ],
      "text/plain": [
       "<IPython.core.display.Markdown object>"
      ]
     },
     "metadata": {},
     "output_type": "display_data"
    },
    {
     "data": {
      "image/png": "[encoded data removed]",
      "text/latex": [
       "$\\displaystyle \\lambda_{F} = \\sqrt{\\frac{F_{y}}{F_{cr}}}$"
      ],
      "text/plain": [
       "          ______\n",
       "         ╱ F_y  \n",
       "λ_F =   ╱  ──── \n",
       "      ╲╱   F_cr "
      ]
     },
     "metadata": {},
     "output_type": "display_data"
    },
    {
     "data": {
      "image/png": "[encoded data removed]",
      "text/latex": [
       "$\\displaystyle \\lambda_{F} = \\sqrt{3402.55} \\cdot \\frac{1}{\\sqrt{13733.6}}$"
      ],
      "text/plain": [
       "             1/2        -1/2\n",
       "λ_F = 3402.55   ⋅13733.6    "
      ]
     },
     "metadata": {},
     "output_type": "display_data"
    },
    {
     "data": {
      "image/png": "[encoded data removed]",
      "text/latex": [
       "$\\displaystyle \\lambda_{F} = 0.498$"
      ],
      "text/plain": [
       "λ_F = 0.498"
      ]
     },
     "metadata": {},
     "output_type": "display_data"
    },
    {
     "data": {
      "text/markdown": [
       "The value of $\\lambda_F= 0.498 < 0.5$ then we need to recalculate $m_2=0$"
      ],
      "text/plain": [
       "<IPython.core.display.Markdown object>"
      ]
     },
     "metadata": {},
     "output_type": "display_data"
    },
    {
     "data": {
      "image/png": "[encoded data removed]",
      "text/latex": [
       "$\\displaystyle m_{2} = 0$"
      ],
      "text/plain": [
       "m₂ = 0"
      ]
     },
     "metadata": {},
     "output_type": "display_data"
    },
    {
     "data": {
      "text/markdown": [
       "Using expression (6.10) from article 6.5 \"Effective loaded length\", calculate $l_y$"
      ],
      "text/plain": [
       "<IPython.core.display.Markdown object>"
      ]
     },
     "metadata": {},
     "output_type": "display_data"
    },
    {
     "data": {
      "image/png": "[encoded data removed]",
      "text/latex": [
       "$\\displaystyle l_{y} = s_{s} + 2 t_{f} \\left(\\sqrt{m_{1} + m_{2}} + 1\\right)$"
      ],
      "text/plain": [
       "                 ⎛  _________    ⎞\n",
       "l_y = sₛ + 2⋅t_f⋅⎝╲╱ m₁ + m₂  + 1⎠"
      ]
     },
     "metadata": {},
     "output_type": "display_data"
    },
    {
     "data": {
      "text/markdown": [
       "$l_{y}=0.628 [m]$"
      ],
      "text/plain": [
       "<IPython.core.display.Markdown object>"
      ]
     },
     "metadata": {},
     "output_type": "display_data"
    },
    {
     "data": {
      "text/markdown": [
       "$l_y=0.628 < a= 1.185$ satisfies the condition $l_y<a$"
      ],
      "text/plain": [
       "<IPython.core.display.Markdown object>"
      ]
     },
     "metadata": {},
     "output_type": "display_data"
    },
    {
     "data": {
      "image/png": "[encoded data removed]",
      "text/latex": [
       "$\\displaystyle F_{y} = f_{yw} l_{y} t_{w}$"
      ],
      "text/plain": [
       "F_y = f_yw⋅l_y⋅t_w"
      ]
     },
     "metadata": {},
     "output_type": "display_data"
    },
    {
     "data": {
      "image/png": "[encoded data removed]",
      "text/latex": [
       "$\\displaystyle F_{y} = 0.015 \\cdot 0.628 \\cdot 355000.0$"
      ],
      "text/plain": [
       "F_y = 0.015⋅0.628⋅355000.0"
      ]
     },
     "metadata": {},
     "output_type": "display_data"
    },
    {
     "data": {
      "text/markdown": [
       "$F_{y}=3345.68 [kN]$"
      ],
      "text/plain": [
       "<IPython.core.display.Markdown object>"
      ]
     },
     "metadata": {},
     "output_type": "display_data"
    },
    {
     "data": {
      "image/png": "[encoded data removed]",
      "text/latex": [
       "$\\displaystyle \\lambda_{F} = \\sqrt{\\frac{F_{y}}{F_{cr}}}$"
      ],
      "text/plain": [
       "          ______\n",
       "         ╱ F_y  \n",
       "λ_F =   ╱  ──── \n",
       "      ╲╱   F_cr "
      ]
     },
     "metadata": {},
     "output_type": "display_data"
    },
    {
     "data": {
      "image/png": "[encoded data removed]",
      "text/latex": [
       "$\\displaystyle \\lambda_{F} = \\sqrt{3345.68} \\cdot \\frac{1}{\\sqrt{13733.6}}$"
      ],
      "text/plain": [
       "             1/2        -1/2\n",
       "λ_F = 3345.68   ⋅13733.6    "
      ]
     },
     "metadata": {},
     "output_type": "display_data"
    },
    {
     "data": {
      "image/png": "[encoded data removed]",
      "text/latex": [
       "$\\displaystyle \\lambda_{F} = 0.494$"
      ],
      "text/plain": [
       "λ_F = 0.494"
      ]
     },
     "metadata": {},
     "output_type": "display_data"
    },
    {
     "data": {
      "text/markdown": [
       " $m_2=0$,  $\\lambda_F=0.494 < 0.5$, does not satisfy the condition"
      ],
      "text/plain": [
       "<IPython.core.display.Markdown object>"
      ]
     },
     "metadata": {},
     "output_type": "display_data"
    }
   ],
   "source": [
    "\n",
    "    \n",
    "    \n",
    "if db['s_s'] < db['a']:\n",
    "\tdisplay(Markdown(f\"\"\"Calculation of Buckling coefficient using Figure 6.1 \"Buckling coefficients for different types of load application\" from article 6.1 basis\"\"\"))\n",
    "\tdisplay(k_F_func(Type))\n",
    "\tdisplay(k_F_func(Type, **db))\n",
    "\tk_F_val=N(k_F_func(Type, **db). doit(),4)\n",
    "\tdisplay(k_F_val)\n",
    "\t\n",
    "\tif Type==\"C\" and k_F_val.rhs>6.0:\n",
    "\t\tdisplay(Markdown(f\"\"\"$k_F$ must be smaller than  $6.0$, then $k_F$ will take the value $6.0$\"\"\"))\n",
    "\t\tdb['k_F']=6.0\t\n",
    "\telse:\n",
    "\t\tdb['k_F']=k_F_val.rhs\n",
    "\tdisplay(Markdown(f\"\"\"Calculation of critical force using expression (6.5) from article 6.4 \"Reduction factor $\\chi_F$ for effective length for resistance\" \"\"\"))\n",
    "\tdisplay(F_cr_func(Type))\n",
    "\tdisplay(F_cr_func(Type, **db))\n",
    "\tF_cr_val=N(F_cr_func(Type, **db). doit(),7)\n",
    "\tdisplay(Markdown(f\"\"\"$F_{{cr}}={F_cr_val.rhs} [kN]$\"\"\"))\n",
    "\tdb['F_cr']=F_cr_val.rhs\n",
    "\t\n",
    "\tif db['F_cr'] < db['F_Ed']:\n",
    "\t\tdisplay(Markdown(f\"\"\"$F_{{cr}}< F_{{Ed}}$,\"\"\"))\n",
    "\t\tdisplay(Markdown(f\"\"\"The structure falls with patch loading by significant margin. Resize using much larger profiles\"\"\"))\n",
    "\telse:\n",
    "\t\tdisplay(Markdown(f\"\"\"Using expression (6.8) from article 6.5 \"Effective loaded length\", calculate $m_1$\"\"\"))\n",
    "\t\tdisplay(m_1_func(Type))\n",
    "\t\tdisplay(m_1_func(Type, **db))\n",
    "\t\tm_1_val=N(m_1_func(Type, **db). doit(),4)\n",
    "\t\t#display(m_1_val)\n",
    "\t\tdisplay(Markdown(f\"\"\"$m_{{1}}={m_1_val.rhs} [m]$\"\"\"))\n",
    "\t\tdb['m_1']=m_1_val.rhs\n",
    "\t\t\n",
    "\t\tdisplay(Markdown(f\"\"\"Using expression (6.9) from article 6.5 \"Effective loaded length\", calculate $m_2$\"\"\"))\n",
    "\t\tdisplay(m_2_func(Type))\n",
    "\t\tdisplay(m_2_func(Type, **db))\n",
    "\t\tm_2_val=N(m_2_func(Type, **db). doit(),4)\n",
    "\t\tdisplay(Markdown(f\"\"\"$m_{{2}}={m_2_val.rhs} [m]$\"\"\"))\n",
    "\t\t#display(m_2_val)\n",
    "\t\tdb['m_2']=m_2_val.rhs\n",
    "\t\n",
    "\t\tif Type==\"C\":\n",
    "\t\t\tdisplay(Markdown(f\"\"\"Calculation of effective length $l_e$\"\"\"))\n",
    "\t\t\tdisplay(l_e_func(Type))\n",
    "\t\t\tdisplay(l_e_func(Type, **db))\n",
    "\t\t\tl_e_val=N(l_e_func(Type, **db). doit(),4)\n",
    "\t\t\tdisplay(Markdown(f\"\"\"$l_{{e}}={l_e_val.rhs} [m]$\"\"\"))\n",
    "\t\t\t#display(l_e_val)\n",
    "\t\t\tdb['l_e']=l_e_val.rhs # check the conditions\n",
    "\t\t\t\n",
    "\t\tdisplay(Markdown(f\"\"\"Using expression (6.10) from article 6.5 \"Effective loaded length\", calculate $l_y$\"\"\"))\n",
    "\t\tdisplay(l_y_func(Type))\n",
    "\t\tl_y_val=N(l_y_func(Type, **db). doit(),4)\n",
    "\t\tdisplay(Markdown(f\"\"\"$l_{{y}}={l_y_val.rhs} [m]$\"\"\"))\n",
    "\t\n",
    "\t\tif Type==\"A\" or Type==\"B\": \n",
    "\t\t\tif l_y_val.rhs<=db['a']:\n",
    "\t\t\t\tdisplay(Markdown(f\"\"\"$l_y=${l_y_val.rhs} $<$ $a=$ {db[\"a\"]} satisfies the condition $l_y<a$\"\"\"))\n",
    "\t\t\tif l_y_val.rhs>db['a']:\n",
    "\t\t\t\tdisplay(Markdown(f\"\"\"The result $l_y={l_y_val.rhs} > a= {db[\"a\"]}$, $l_y$ must be smaller than the distance between adjacent transverse stiffeners $a$, \n",
    "                so in this case $l_y$ will take the value of $a={db[\"a\"]}$\"\"\"))\n",
    "\t\t\t\tdisplay(Markdown(f\"\"\"$l_{{y}}={l_y_val.rhs} [m]$\"\"\"))\n",
    "\n",
    "\t\t\t\tdb['l_y']=db['a']\n",
    "\t\t\telse:\t\t\n",
    "\t\t\t\tdb['l_y']=l_y_val.rhs\n",
    "\t\telse:\n",
    "\t\t\tdb['l_y']=l_y_val.rhs\n",
    "\t\t\n",
    "\t\tdisplay(Markdown(f\"\"\"Calculation of plastic web yielding mechanism, $F_y$, for non dimensional slenderness \"\"\"))\n",
    "\t\tdisplay(F_y_func(Type))\n",
    "\t\tdisplay(F_y_func(Type, **db))\n",
    "\t\tF_y_val=N(F_y_func(Type, **db). doit(),6)\n",
    "\t\tdisplay(Markdown(f\"\"\"$F_{{y}}={F_y_val.rhs} [KN]$\"\"\"))\n",
    "\t\tdb['F_y']=F_y_val.rhs\n",
    "\t\n",
    "\t\tif db['F_y'] < db['F_Ed']:\n",
    "\t\t\tdisplay(Markdown('$F_y < F_{Ed}$ The structure fails to meet patch loading requirements. Resize using larger profiles or consider bringing stifferners closer'))\n",
    "\t\n",
    "\t\tdisplay(Markdown(\"\"\"Calculation of $\\lambda_F$, non dimensional slenderness using modification of expression (6.4) from article 6.4 \"Reduction factor $\\chi_F$ for efective lenght for resistance\" \"\"\"))\n",
    "\t\tdisplay(lambda_F_func(Type))\n",
    "\t\tdisplay(lambda_F_func1(Type, **db))\n",
    "\t\tlambda_F_val=N(lambda_F_func(Type, **db). doit(),3)\n",
    "\t\tdisplay(lambda_F_val)\n",
    "\t\tdb['lambda_F']=lambda_F_val.rhs\n",
    "\n",
    "\t\tif db['lambda_F']<=0.5:\n",
    "\t\t\tdisplay(Markdown(f'The value of $\\lambda_F= {db[\"lambda_F\"]} < 0.5$ then we need to recalculate $m_2=0$'))\n",
    "\t\t\tdel db['m_2']\n",
    "\t\t\tif 'l_e' in db.keys():\n",
    "\t\t\t\tdel db['l_e']\n",
    "\t\t\tdel db['l_y']\n",
    "\t\t\tdel db['F_y']\n",
    "\t\t\tdel db['lambda_F']\n",
    "\t\t\tdisplay(Eq(m_2,0))\n",
    "\t\t\tdb['m_2']=0\n",
    "\n",
    "\n",
    "\t\t\tif Type==\"C\":\n",
    "\t\t\t\tdisplay(Markdown(f\"\"\"Calculation of effective length $l_e$\"\"\"))\n",
    "\t\t\t\tdisplay(l_e_func(Type))\n",
    "\t\t\t\tdisplay(l_e_func(Type, **db))\n",
    "\t\t\t\tl_e_val=N(l_e_func(Type, **db). doit(),3)\n",
    "\t\t\t\tdisplay(Markdown(f\"\"\"$l_{{e}}={l_e_val.rhs} [m]$\"\"\"))\n",
    "\t\t\t\tdb['l_e']=l_e_val.rhs # check the conditions\n",
    "\t\t\t\t\n",
    "\t\t\tdisplay(Markdown(f\"\"\"Using expression (6.10) from article 6.5 \"Effective loaded length\", calculate $l_y$\"\"\"))\n",
    "\t\t\tdisplay(l_y_func(Type))\n",
    "\t\t\tl_y_val=N(l_y_func(Type, **db). doit(),3)\n",
    "\t\t\tdisplay(Markdown(f\"\"\"$l_{{y}}={l_y_val.rhs} [m]$\"\"\"))\n",
    "\t\t\n",
    "\t\t\tif Type==\"A\" or Type==\"B\": \n",
    "\t\t\t\tif l_y_val.rhs<=db['a']:\n",
    "\t\t\t\t\tdisplay(Markdown(f'$l_y={l_y_val.rhs} < a= {db[\"a\"]}$ satisfies the condition $l_y<a$'))\n",
    "\t\t\t\tif l_y_val.rhs>db['a']:\n",
    "\t\t\t\t\tdisplay(Markdown(f'The result $l_y=${l_y_val.rhs} $>$ $a=$ {db[\"a\"]}, $l_y$ must be smaller than the distance between adjacent transverse stiffeners $a$, so in this case $l_y$ will take the value of $a$={db[\"a\"]}'))\n",
    "\t\t\t\t\tdisplay(Markdown(f'$l_y=$ {db[\"a\"]} [m]'))\n",
    "\t\t\t\t\tdb['l_y']=db['a']\n",
    "\t\t\t\telse:\n",
    "\t\t\t\t\tdb['l_y']=l_y_val.rhs\n",
    "\t\t\telse:\n",
    "\t\t\t\tdb['l_y']=l_y_val.rhs\n",
    "\t\t\n",
    "\n",
    "\t\t\t\n",
    "\t\t\tdisplay(F_y_func(Type))\n",
    "\t\t\tdisplay(F_y_func(Type, **db))\n",
    "\t\t\tF_y_val=N(F_y_func(Type, **db). doit(),6)\n",
    "\t\t\tdisplay(Markdown(f\"\"\"$F_{{y}}={F_y_val.rhs} [kN]$\"\"\"))\n",
    "\t\t\tdb['F_y']=F_y_val.rhs\n",
    "\t\t\n",
    "\t\t\tif db['F_y'] < db['F_Ed']:\n",
    "\t\t\t\tdisplay(Markdown(\"\"\"$F_y < F_{Ed}$ The structure falls with patch loading by significant margin. Resize using much larger profiles\"\"\"))\n",
    "\t\t\t\t\n",
    "\t\t\tdisplay(lambda_F_func(Type))\n",
    "\t\t\tdisplay(lambda_F_func1(Type, **db))\n",
    "\t\t\tlambda_F_val=N(lambda_F_func(Type, **db). doit(),3)\n",
    "\t\t\tdisplay(lambda_F_val)\n",
    "\t\t\tdb['lambda_F']=lambda_F_val.rhs\n",
    "\t\t\t\n",
    "\t\t\tif db['lambda_F']<=0.5:\n",
    "\t\t\t\tdisplay(Markdown(f\"\"\" $m_2=0$,  $\\lambda_F={db['lambda_F']} < 0.5$, does not satisfy the condition\"\"\"))\n",
    "\t\t\telse:\n",
    "\t\t\t\tdisplay(Markdown(\"Reduction factor $\\chi_F$ for effective length for resistance\"))\n",
    "\t\t\t\tdisplay(chi_F_func(Type))\n",
    "\t\t\t\tdisplay(chi_F_func(Type, **db))\n",
    "\t\t\t\tchi_F_val=N(chi_F_func(Type, **db). doit(),4)\n",
    "\t\t\t\tdisplay(chi_F_val)\n",
    "\t\t\t\tdb['chi_F']=chi_F_val.rhs\n",
    "\t\t\t\t\n",
    "\t\t\t\tdisplay(Markdown(f'Calculation of design strength $F_{{Rd}}$'))\n",
    "\t\t\t\tdisplay(F_Rd_func(Type))\n",
    "\t\t\t\tdisplay(F_Rd_func(Type, **db))\n",
    "\t\t\t\tF_Rd_val=N(F_Rd_func(Type, **db). doit(),4)\n",
    "\t\t\t\tdisplay(F_Rd_val)\n",
    "\t\t\t\tdb['F_Rd']=F_Rd_val.rhs\n",
    "\t\t\t\tif db['F_Rd']<db['F_Ed']:\n",
    "\t\t\t\t\tdisplay(Markdown(\"\"\"$F_y < F_{Ed} $The structure fails to meet patch loading requirements. Resize using larger profiles or consider bringing stifferners closer\"\"\"))\n",
    "\n",
    "\t\t\t\telse:\n",
    "\t\t\t\t\tdisplay(eta_2_func(Type))\n",
    "\t\t\t\t\tdisplay(eta_2_func(Type, **db))\n",
    "\t\t\t\t\teta_2_val=N(eta_2_func(Type, **db). doit(),4)\n",
    "\t\t\t\t\tdisplay(eta_2_val)\n",
    "\t\t\t\t\tdb['eta_2']=eta_2_val.rhs\n",
    "\t\telse:\n",
    "\t\t\tdisplay(Markdown(\"Calculation of reduction factor $\\chi_F$ for effective length for resistance using expression (6.3)\"))\n",
    "\t\t\tdisplay(chi_F_func(Type))\n",
    "\t\t\tdisplay(chi_F_func(Type, **db))\n",
    "\t\t\tchi_F_val=N(chi_F_func(Type, **db). doit(),4)\n",
    "\t\t\tdisplay(chi_F_val)\n",
    "\t\t\tdb['chi_F']=chi_F_val.rhs\n",
    "\t\t\t\n",
    "\t\t\tdisplay(Markdown('Calculation of design strength $F_{Rd}$'))\n",
    "\t\t\tdisplay(F_Rd_func(Type))\n",
    "\t\t\tdisplay(F_Rd_func(Type, **db))\n",
    "\t\t\tF_Rd_val=N(F_Rd_func(Type, **db). doit(),6)\n",
    "\t\t\tdisplay(Markdown(f\"\"\"$F_{{Rd}}={F_Rd_val.rhs} [kN]$\"\"\"))\n",
    "\t\t\tdb['F_Rd']=F_Rd_val.rhs\n",
    "\t\t\n",
    "\t\t\tif db['F_Rd']<db['F_Ed']:\n",
    "\t\t\t\tdisplay(Markdown(\"$F_{Rd}< F_{Ed}$,\"))\n",
    "\t\t\t\t\n",
    "\t\t\t\tdisplay(Markdown(\"\"\"The structure fails to meet patch loading requirements. Resize using larger profiles or consider bringing stifferners closer\"\"\"))\n",
    "\t\t\t\n",
    "\t\t\tdisplay(Markdown(\"The section meets patch loading requirements with a safety factor of\"))\n",
    "\t\t\tdisplay(eta_2_func(Type))\n",
    "\n",
    "\t\t\tdisplay(eta_2_func1(Type, **db))\n",
    "\t\t\teta_2_val=N(eta_2_func(Type, **db). doit(),3)\n",
    "\t\t\tdisplay(eta_2_val)\n",
    "\t\t\tdb['eta_2']=eta_2_val.rhs\n",
    "\t\t\t# Load an image from file\n",
    "\t\t\timage_path = \"Images/eta_1.png\"\n",
    "            \n",
    "            # Display the image with a specified width (e.g., 550 pixels)\n",
    "\t\t\tdisplay(Image(filename=image_path, width=550))\n",
    "\n",
    "else:\n",
    "\tdisplay(Markdown(\"$S_s> a$,\"))\n",
    "\tdisplay(Markdown('This calculation cannot be performed using patch loading. Proceed as if it were a compressed column with its reductions and potential buckling'))"
   ]
  },
  {
   "cell_type": "code",
   "execution_count": 7,
   "id": "8b40203a-bdc7-4b41-9f46-35ad4f742cfc",
   "metadata": {},
   "outputs": [],
   "source": [
    "# Replace 'patch_Loading_sympy.ipynb' with your actual notebook filename\n",
    "notebook_filename = 'patch_Loading_sympy.ipynb'\n",
    "\n",
    "# Read the notebook\n",
    "with open(notebook_filename, 'r', encoding='utf-8') as f:\n",
    "    notebook_content = nbformat.read(f, as_version=4)\n",
    "\n",
    "# Export to HTML without code cells\n",
    "html_exporter = HTMLExporter(exclude_input=True)\n",
    "(body, resources) = html_exporter.from_notebook_node(notebook_content)\n",
    "\n",
    "# Save the HTML file\n",
    "with open('patch_Loading_sympy.html', 'w', encoding='utf-8') as f:\n",
    "    f.write(body)"
   ]
  },
  {
   "cell_type": "code",
   "execution_count": null,
   "id": "d4442675-f62c-4665-bfb6-358768c089c7",
   "metadata": {},
   "outputs": [],
   "source": []
  }
 ],
 "metadata": {
  "kernelspec": {
   "display_name": "Python 3 (ipykernel)",
   "language": "python",
   "name": "python3"
  },
  "language_info": {
   "codemirror_mode": {
    "name": "ipython",
    "version": 3
   },
   "file_extension": ".py",
   "mimetype": "text/x-python",
   "name": "python",
   "nbconvert_exporter": "python",
   "pygments_lexer": "ipython3",
   "version": "3.10.9"
  }
 },
 "nbformat": 4,
 "nbformat_minor": 5
}
